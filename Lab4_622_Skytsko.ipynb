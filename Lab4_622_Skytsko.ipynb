{
  "nbformat": 4,
  "nbformat_minor": 0,
  "metadata": {
    "colab": {
      "provenance": [],
      "toc_visible": true,
      "authorship_tag": "ABX9TyPacL81HffRiCPRD1Yjjos6",
      "include_colab_link": true
    },
    "kernelspec": {
      "name": "python3",
      "display_name": "Python 3"
    },
    "language_info": {
      "name": "python"
    }
  },
  "cells": [
    {
      "cell_type": "markdown",
      "metadata": {
        "id": "view-in-github",
        "colab_type": "text"
      },
      "source": [
        "<a href=\"https://colab.research.google.com/github/Gaveloshpom/GoogleColabs/blob/main/Lab4_622_Skytsko.ipynb\" target=\"_parent\"><img src=\"https://colab.research.google.com/assets/colab-badge.svg\" alt=\"Open In Colab\"/></a>"
      ]
    },
    {
      "cell_type": "markdown",
      "source": [
        "<center>МІНІСТЕРСТВО ОСВІТИ І НАУКИ УКРАЇНИ</center>\n",
        "\n",
        "<center>Національний аерокосмічний університет ім. М. Є. Жуковського  \n",
        "«Харківський авіаційний інститут»</center>\n",
        "\n",
        "<center>факультет програмної інженерії та бізнесу</center>\n",
        "<center>кафедра інженерії програмного забезпечення</center>\n",
        "\n",
        "---\n",
        "\n",
        "<center>Лабораторна робота №4</center>\n",
        "\n",
        "<center>з дисципліни «Штучний інтелект та бази знань»</center>\n",
        "\n",
        "---\n",
        "\n",
        "**Виконав:** студент 2 курсу групи **622П**  \n",
        "напряму підготовки (спеціальності) - **121 інженерія програмного забезпечення**  \n",
        "**Скицко Р. С.**\n",
        "\n",
        "---\n",
        "\n",
        "<center>Харків — 2025</center>"
      ],
      "metadata": {
        "id": "cd2vYe3V7x6H"
      }
    },
    {
      "cell_type": "markdown",
      "source": [
        "# **Завдання 1:** Дослідити вплив значень кількості епох та швидкості навчання на точність передбачень"
      ],
      "metadata": {
        "id": "VqbdKsWLBwVd"
      }
    },
    {
      "cell_type": "markdown",
      "source": [
        "## 1.Проаналізуйте запропоновану реалізацію простої нейромережі на Python з використанням бібліотеки NumPy та перенесіть у власний notebook"
      ],
      "metadata": {
        "id": "QIU-ykc6B2o9"
      }
    },
    {
      "cell_type": "markdown",
      "source": [
        "### **Імпорт необхідних бібліотек**"
      ],
      "metadata": {
        "id": "4SgAM9-JCCKE"
      }
    },
    {
      "cell_type": "code",
      "source": [
        "import numpy as np\n",
        "import matplotlib.pyplot as plt\n",
        "import sys"
      ],
      "metadata": {
        "id": "IQ3uGPWXB9-9"
      },
      "execution_count": 21,
      "outputs": []
    },
    {
      "cell_type": "markdown",
      "source": [
        "### **Код**"
      ],
      "metadata": {
        "id": "m-y43KdCCIJd"
      }
    },
    {
      "cell_type": "code",
      "source": [
        "np.random.seed(42)\n",
        "\n",
        "class SimpleNeuralNetwork(object):\n",
        "\n",
        "    def __init__(self, learning_rate=0.1): # конструктор\n",
        "      self.weights_0_1 = np.random.normal(0.0, 2 ** -0.5, (2, 3)) # радномні ваги від вхідного шару до прихованого, розмірність 2 на 3, в прихованому шарі 2 нейрони і кожен має 3 значення вагів\n",
        "      self.weights_1_2 = np.random.normal(0.0, 1, (1, 2)) # радномні ваги від прихованого шару до вихідного, 1 нейрон та 2 значення (зв'язок з 2 нейронами прихованого шару)\n",
        "      self.sigmoid_mapper = np.vectorize(self.sigmoid) # проходимо по вектору і до кожного елементу приміняємо сігмоідну функцію\n",
        "      self.learning_rate = np.array([learning_rate]) # зберігає значенн яlearning rate\n",
        "\n",
        "    def sigmoid(self, x):\n",
        "      return 1 / (1 + np.exp(-x)) # формула сігмоіду\n",
        "\n",
        "    def predict(self, inputs): # метод прямого розповсюдження для передбачень, inputs = 1 або 0 та має розмірність 3\n",
        "      inputs_1 = np.dot(self.weights_0_1, inputs) # ваги від вхідного шару до прихованого помнажаються на inputs, отримуємо inputs до прихованого шару\n",
        "      outputs_1 = self.sigmoid_mapper(inputs_1) # пропускаємо через активаційну функцію (сігмоід)\n",
        "\n",
        "      inputs_2 = np.dot(self.weights_1_2, outputs_1) # помножаємо ваги від прихованого шару до останнього шару\n",
        "      outputs_2 = self.sigmoid_mapper(inputs_2) # пропускаємо через активаційну функцію (сігмоід)\n",
        "      return outputs_2 # результат (0 або 1)\n",
        "\n",
        "    def train(self, inputs, expected_predict): # звортнє розповсюдження помилки\n",
        "        inputs_1 = np.dot(self.weights_0_1, inputs)\n",
        "        outputs_1 = self.sigmoid_mapper(inputs_1)\n",
        "\n",
        "        inputs_2 = np.dot(self.weights_1_2, outputs_1)\n",
        "        outputs_2 = self.sigmoid_mapper(inputs_2)\n",
        "        actual_predict = outputs_2[0] # зберігаємо поточний результат\n",
        "\n",
        "        error_layer_2 = np.array([actual_predict - expected_predict]) # розраховуємо помилку\n",
        "        gradient_layer_2 = actual_predict * (1 - actual_predict) # розраховуємо градієнт (похідну від сігмоідальної функції)\n",
        "        weights_delta_layer_2 = error_layer_2 * gradient_layer_2 # delta вагів\n",
        "        self.weights_1_2 -= (np.dot(weights_delta_layer_2, outputs_1.reshape(1, len(outputs_1)))) * self.learning_rate # корегуємо ваги\n",
        "\n",
        "        error_layer_1 = weights_delta_layer_2 * self.weights_1_2 # перемножуємо delta вагів на ваги прихованого шару\n",
        "        gradient_layer_1 = outputs_1 * (1 - outputs_1) # розраховуємо градієнт (похідну від сігмоідальної функції)\n",
        "        weights_delta_layer_1 = error_layer_1 * gradient_layer_2\n",
        "        self.weights_0_1 -= np.dot(inputs.reshape(len(inputs), 1), weights_delta_layer_1).T * self.learning_rate # корегуємо ваги\n",
        "\n",
        "def MSE(y, Y):\n",
        "    return np.mean((y-Y)**2)\n",
        "\n",
        "\n",
        "train = [\n",
        "    ([0, 0, 0], 0),\n",
        "    ([0, 0, 1], 1),\n",
        "    ([0, 1, 0], 0),\n",
        "    ([0, 1, 1], 0),\n",
        "    ([1, 0, 0], 1),\n",
        "    ([1, 0, 1], 1),\n",
        "    ([1, 1, 0], 0),\n",
        "    ([1, 1, 1], 0),\n",
        "]"
      ],
      "metadata": {
        "id": "f1j8Z9A9CKJF"
      },
      "execution_count": null,
      "outputs": []
    },
    {
      "cell_type": "code",
      "source": [
        "epochs = 200 # задаємо кількість епох\n",
        "learning_rate = 0.01 # задаємо швидкість навчання\n",
        "\n",
        "network = SimpleNeuralNetwork(learning_rate=learning_rate) # створюємор мережу\n",
        "\n",
        "for e in range(epochs):\n",
        "    inputs_ = []\n",
        "    correct_predictions = []\n",
        "    for input_stat, correct_predict in train:\n",
        "        network.train(np.array(input_stat), correct_predict) # передаємо вхідні дані та очікувані\n",
        "        inputs_.append(np.array(input_stat))\n",
        "        correct_predictions.append(np.array(correct_predict))\n",
        "\n",
        "    train_loss = MSE(network.predict(np.array(inputs_).T), np.array(correct_predictions)) # розраховуємо MSE\n",
        "    sys.stdout.write(\"\\rПрогрес: {}%, Тренувальна втрата: {}\".format(str(100 * e/float(epochs))[:4], str(train_loss)[:5]))"
      ],
      "metadata": {
        "colab": {
          "base_uri": "https://localhost:8080/"
        },
        "id": "AdNO8ezuCg4F",
        "outputId": "bb02a26c-5f8c-4355-b14f-1a2526868f86"
      },
      "execution_count": null,
      "outputs": [
        {
          "output_type": "stream",
          "name": "stdout",
          "text": [
            "Прогрес: 99.5%, Тренувальна втрата: 0.212"
          ]
        }
      ]
    },
    {
      "cell_type": "code",
      "source": [
        "for input_stat, correct_predict in train: # виконуємо прогнозування\n",
        "    print(\"Для вхідних даних: {} передбачення: {}, очікуваний результат: {}\".format(\n",
        "        str(input_stat),\n",
        "        str(network.predict(np.array(input_stat)) > .5),\n",
        "        str(correct_predict == 1)))"
      ],
      "metadata": {
        "colab": {
          "base_uri": "https://localhost:8080/"
        },
        "id": "UFIiPgHyCtbV",
        "outputId": "4c4623b2-87d9-4f19-e200-4abe8c263908"
      },
      "execution_count": null,
      "outputs": [
        {
          "output_type": "stream",
          "name": "stdout",
          "text": [
            "Для вхідних даних: [0, 0, 0] передбачення: [False], очікуваний результат: False\n",
            "Для вхідних даних: [0, 0, 1] передбачення: [False], очікуваний результат: True\n",
            "Для вхідних даних: [0, 1, 0] передбачення: [False], очікуваний результат: False\n",
            "Для вхідних даних: [0, 1, 1] передбачення: [False], очікуваний результат: False\n",
            "Для вхідних даних: [1, 0, 0] передбачення: [False], очікуваний результат: True\n",
            "Для вхідних даних: [1, 0, 1] передбачення: [False], очікуваний результат: True\n",
            "Для вхідних даних: [1, 1, 0] передбачення: [False], очікуваний результат: False\n",
            "Для вхідних даних: [1, 1, 1] передбачення: [False], очікуваний результат: False\n"
          ]
        }
      ]
    },
    {
      "cell_type": "code",
      "source": [
        "for input_stat, correct_predict in train: # виконуємо прогнозування\n",
        "    print(\"Для вхідних даних: {} передбачення: {}, очікуваний результат: {}\".format(\n",
        "        str(input_stat),\n",
        "        str(network.predict(np.array(input_stat))),\n",
        "        str(correct_predict == 1)))"
      ],
      "metadata": {
        "colab": {
          "base_uri": "https://localhost:8080/"
        },
        "id": "Pa8LDC3lCwGl",
        "outputId": "2882281d-1853-425c-d1fe-2cb926009709"
      },
      "execution_count": null,
      "outputs": [
        {
          "output_type": "stream",
          "name": "stdout",
          "text": [
            "Для вхідних даних: [0, 0, 0] передбачення: [0.25369793], очікуваний результат: False\n",
            "Для вхідних даних: [0, 0, 1] передбачення: [0.32371759], очікуваний результат: True\n",
            "Для вхідних даних: [0, 1, 0] передбачення: [0.21182392], очікуваний результат: False\n",
            "Для вхідних даних: [0, 1, 1] передбачення: [0.27603489], очікуваний результат: False\n",
            "Для вхідних даних: [1, 0, 0] передбачення: [0.30103863], очікуваний результат: True\n",
            "Для вхідних даних: [1, 0, 1] передбачення: [0.36839129], очікуваний результат: True\n",
            "Для вхідних даних: [1, 1, 0] передбачення: [0.25387103], очікуваний результат: False\n",
            "Для вхідних даних: [1, 1, 1] передбачення: [0.32235974], очікуваний результат: False\n"
          ]
        }
      ]
    },
    {
      "cell_type": "markdown",
      "source": [
        "## 2.Підберіть значення кількості епох (epochs) та швидкості навчання (learning_rate) при яких модель виконує передбачення, що відповідають очікуваному результату, а також відкорегуйте значення втрат до 0.00*."
      ],
      "metadata": {
        "id": "3RcITO_kJi8u"
      }
    },
    {
      "cell_type": "code",
      "source": [
        "epochs = 5000 # задаємо кількість епох\n",
        "learning_rate = 0.05 # задаємо швидкість навчання\n",
        "\n",
        "network = SimpleNeuralNetwork(learning_rate=learning_rate) # створюємор мережу\n",
        "\n",
        "for e in range(epochs):\n",
        "    inputs_ = []\n",
        "    correct_predictions = []\n",
        "    for input_stat, correct_predict in train:\n",
        "        network.train(np.array(input_stat), correct_predict) # передаємо вхідні дані та очікувані\n",
        "        inputs_.append(np.array(input_stat))\n",
        "        correct_predictions.append(np.array(correct_predict))\n",
        "\n",
        "    train_loss = MSE(network.predict(np.array(inputs_).T), np.array(correct_predictions)) # розраховуємо MSE\n",
        "    sys.stdout.write(\"\\rПрогрес: {}%, Тренувальна втрата: {}\".format(str(100 * e/float(epochs))[:4], str(train_loss)[:5]))"
      ],
      "metadata": {
        "colab": {
          "base_uri": "https://localhost:8080/"
        },
        "id": "mZ4sxECCKMTW",
        "outputId": "e3420f18-c88f-4ea6-a39b-dc448c0e733c"
      },
      "execution_count": null,
      "outputs": [
        {
          "output_type": "stream",
          "name": "stdout",
          "text": [
            "Прогрес: 99.9%, Тренувальна втрата: 0.004"
          ]
        }
      ]
    },
    {
      "cell_type": "code",
      "source": [
        "for input_stat, correct_predict in train: # виконуємо прогнозування\n",
        "    print(\"Для вхідних даних: {} передбачення: {}, очікуваний результат: {}\".format(\n",
        "        str(input_stat),\n",
        "        str(network.predict(np.array(input_stat)) > .5),\n",
        "        str(correct_predict == 1)))"
      ],
      "metadata": {
        "colab": {
          "base_uri": "https://localhost:8080/"
        },
        "id": "CynISOBMKhot",
        "outputId": "7b692dd4-075e-49ab-839b-8fbdd45dd262"
      },
      "execution_count": null,
      "outputs": [
        {
          "output_type": "stream",
          "name": "stdout",
          "text": [
            "Для вхідних даних: [0, 0, 0] передбачення: [False], очікуваний результат: False\n",
            "Для вхідних даних: [0, 0, 1] передбачення: [ True], очікуваний результат: True\n",
            "Для вхідних даних: [0, 1, 0] передбачення: [False], очікуваний результат: False\n",
            "Для вхідних даних: [0, 1, 1] передбачення: [False], очікуваний результат: False\n",
            "Для вхідних даних: [1, 0, 0] передбачення: [ True], очікуваний результат: True\n",
            "Для вхідних даних: [1, 0, 1] передбачення: [ True], очікуваний результат: True\n",
            "Для вхідних даних: [1, 1, 0] передбачення: [False], очікуваний результат: False\n",
            "Для вхідних даних: [1, 1, 1] передбачення: [False], очікуваний результат: False\n"
          ]
        }
      ]
    },
    {
      "cell_type": "code",
      "source": [
        "for input_stat, correct_predict in train: # виконуємо прогнозування\n",
        "    print(\"Для вхідних даних: {} передбачення: {}, очікуваний результат: {}\".format(\n",
        "        str(input_stat),\n",
        "        str(network.predict(np.array(input_stat))),\n",
        "        str(correct_predict == 1)))"
      ],
      "metadata": {
        "colab": {
          "base_uri": "https://localhost:8080/"
        },
        "id": "giCmX3V2KjpW",
        "outputId": "11035393-d18e-42bd-c8c5-af2bf764a565"
      },
      "execution_count": null,
      "outputs": [
        {
          "output_type": "stream",
          "name": "stdout",
          "text": [
            "Для вхідних даних: [0, 0, 0] передбачення: [0.12640348], очікуваний результат: False\n",
            "Для вхідних даних: [0, 0, 1] передбачення: [0.91025496], очікуваний результат: True\n",
            "Для вхідних даних: [0, 1, 0] передбачення: [0.00059344], очікуваний результат: False\n",
            "Для вхідних даних: [0, 1, 1] передбачення: [0.00097007], очікуваний результат: False\n",
            "Для вхідних даних: [1, 0, 0] передбачення: [0.9110804], очікуваний результат: True\n",
            "Для вхідних даних: [1, 0, 1] передбачення: [0.95328146], очікуваний результат: True\n",
            "Для вхідних даних: [1, 1, 0] передбачення: [0.00092987], очікуваний результат: False\n",
            "Для вхідних даних: [1, 1, 1] передбачення: [0.08110165], очікуваний результат: False\n"
          ]
        }
      ]
    },
    {
      "cell_type": "markdown",
      "source": [
        "## **Висновки**"
      ],
      "metadata": {
        "id": "tE_3n8L1KrKG"
      }
    },
    {
      "cell_type": "markdown",
      "source": [
        "Виявлено, що при недостатній кількості епох (менше 500) мережа не встигає навчитися і дає хибні передбачення. Занадто велике значення learning_rate призводить до нестабільного навчання. Найкращий результат було досягнуто при epochs = 5000 та learning_rate = 0.05. За цих умов значення втрат наблизилось до 0.005, а передбачення повністю співпадають з очікуваними результатами.\n",
        "\n",
        "Таким чином, правильний підбір гіперпараметрів (epochs та learning_rate) суттєво впливає на ефективність навчання нейронної мережі."
      ],
      "metadata": {
        "id": "nSr8OsdSKtNu"
      }
    },
    {
      "cell_type": "markdown",
      "source": [
        "# **Завдання 2:** Написати просту нейромережу з прихованим шаром на Keras"
      ],
      "metadata": {
        "id": "lmFlfpepL1zm"
      }
    },
    {
      "cell_type": "markdown",
      "source": [
        "## 1.Імпортуйте необхідні бібліотеки та класи з Keras."
      ],
      "metadata": {
        "id": "9SDuz8PAeZkh"
      }
    },
    {
      "cell_type": "code",
      "source": [
        "# 1. Імпортуємо необхідні бібліотеки\n",
        "import tensorflow as tf\n",
        "from tensorflow.keras.models import Sequential\n",
        "from tensorflow.keras.layers import Dense\n",
        "from tensorflow.keras.optimizers import SGD"
      ],
      "metadata": {
        "id": "Vc3n92bkaUpy"
      },
      "execution_count": 22,
      "outputs": []
    },
    {
      "cell_type": "markdown",
      "source": [
        "## 2.Розподіліть список даних train (з першого завдання) на X_train та y_train, де X_train - вхідні значення, y_train - передбачення."
      ],
      "metadata": {
        "id": "sqdMaRtxeotJ"
      }
    },
    {
      "cell_type": "code",
      "source": [
        "# 2. Підготовка даних\n",
        "train = [\n",
        "    ([0, 0, 0], 0),\n",
        "    ([0, 0, 1], 1),\n",
        "    ([0, 1, 0], 0),\n",
        "    ([0, 1, 1], 0),\n",
        "    ([1, 0, 0], 1),\n",
        "    ([1, 0, 1], 1),\n",
        "    ([1, 1, 0], 0),\n",
        "    ([1, 1, 1], 0),\n",
        "]\n",
        "\n",
        "X_train = np.array([x for x, y in train])\n",
        "y_train = np.array([y for x, y in train])"
      ],
      "metadata": {
        "id": "faHLH3Cueqop"
      },
      "execution_count": 23,
      "outputs": []
    },
    {
      "cell_type": "markdown",
      "source": [
        "## 3.Інціалізуйте послідовну модель Sequential(). Послідовні моделі у Keras використовуються для створення моделей шар за шаром, де кожен наступний шар має з'єднання лише з попереднім."
      ],
      "metadata": {
        "id": "Kkz13SDmetLA"
      }
    },
    {
      "cell_type": "code",
      "source": [
        "# 3. Ініціалізація моделі\n",
        "model = Sequential()"
      ],
      "metadata": {
        "id": "nAyB0DJZevpA"
      },
      "execution_count": 27,
      "outputs": []
    },
    {
      "cell_type": "markdown",
      "source": [
        "## 4.Додайте повнозв'язний (прихований) шар, що має мати 2 нейрони, та очікувати вхідні дані з 3 особливостями. Функцію активації задаємо сігмоідальну."
      ],
      "metadata": {
        "id": "--cNIc2Eexqg"
      }
    },
    {
      "cell_type": "code",
      "source": [
        "# 4. Додаємо прихований шар (2 нейрони, вхід з 3-х ознак)\n",
        "model.add(Dense(2, input_dim=3, activation='sigmoid'))"
      ],
      "metadata": {
        "id": "nJx4hXXGfEzZ"
      },
      "execution_count": 28,
      "outputs": []
    },
    {
      "cell_type": "markdown",
      "source": [
        "## 5.Додайте вихідний шар до моделі. Цей шар має мати лише один нейрон, що означає, що модель буде виробляти одне вихідне значення."
      ],
      "metadata": {
        "id": "W8ofAgMifH5R"
      }
    },
    {
      "cell_type": "code",
      "source": [
        "# 5. Додаємо вихідний шар (1 нейрон, активація — сигмоїдна)\n",
        "model.add(Dense(1, activation='sigmoid'))"
      ],
      "metadata": {
        "id": "hYve2cTYfNcI"
      },
      "execution_count": 29,
      "outputs": []
    },
    {
      "cell_type": "markdown",
      "source": [
        "## 6.Скомпілюйте модель. В якості функції втрат використайте бінарну кросентропію, в якості оптимізатора -- стохастичний градієнтний спуск, а для оцінки якості моделі використайте метріку точності. В якості початкового значення швидкості навчання використайте визначене в завданні 1."
      ],
      "metadata": {
        "id": "UOJsfquffQ4o"
      }
    },
    {
      "cell_type": "code",
      "source": [
        "# 6. Компіляція моделі\n",
        "learning_rate = 0.05\n",
        "optimizer = SGD(learning_rate=learning_rate)\n",
        "model.compile(optimizer=optimizer, loss='binary_crossentropy', metrics=['accuracy'])"
      ],
      "metadata": {
        "id": "L9aBnhLHfT2Y"
      },
      "execution_count": 30,
      "outputs": []
    },
    {
      "cell_type": "markdown",
      "source": [
        "## 7.Натренуйте модель, в якості початкового значення кількості епох вкажіть визначене в завданні 1."
      ],
      "metadata": {
        "id": "G31-MbHEfWRo"
      }
    },
    {
      "cell_type": "code",
      "source": [
        "# 7. Навчання моделі\n",
        "epochs = 5000\n",
        "model.fit(X_train, y_train, epochs=epochs, verbose=0)"
      ],
      "metadata": {
        "id": "Q0cqoDg0fmhh",
        "colab": {
          "base_uri": "https://localhost:8080/"
        },
        "outputId": "8a8d5a20-844e-4790-f709-db33f47be5bd"
      },
      "execution_count": 31,
      "outputs": [
        {
          "output_type": "execute_result",
          "data": {
            "text/plain": [
              "<keras.src.callbacks.history.History at 0x7ea95c6481d0>"
            ]
          },
          "metadata": {},
          "execution_count": 31
        }
      ]
    },
    {
      "cell_type": "markdown",
      "source": [
        "## 8.Згенеруйте передбачення."
      ],
      "metadata": {
        "id": "dFlNR-PnfppK"
      }
    },
    {
      "cell_type": "code",
      "source": [
        "# 8. Генерація передбачень\n",
        "predictions = model.predict(X_train)"
      ],
      "metadata": {
        "colab": {
          "base_uri": "https://localhost:8080/"
        },
        "id": "7USJE_eLftPS",
        "outputId": "71ac5e98-e2fa-468c-d6c6-16c6df41ddab"
      },
      "execution_count": 33,
      "outputs": [
        {
          "output_type": "stream",
          "name": "stdout",
          "text": [
            "\u001b[1m1/1\u001b[0m \u001b[32m━━━━━━━━━━━━━━━━━━━━\u001b[0m\u001b[37m\u001b[0m \u001b[1m0s\u001b[0m 35ms/step\n"
          ]
        }
      ]
    },
    {
      "cell_type": "markdown",
      "source": [
        "## 9.Оскільки вихідний шар моделі використовує сигмоїдну активаційну функцію для бінарної класифікації, результати передбачень є ймовірностями належності до класу '1'. Використання функції np.round(predictions) округлює ці ймовірності до найближчого цілого числа, що перетворить їх на бінарні класи (0 або 1)."
      ],
      "metadata": {
        "id": "bP1b3RWHf1WJ"
      }
    },
    {
      "cell_type": "code",
      "source": [
        "# 9. Округлення ймовірностей до класів (0 або 1)\n",
        "rounded_predictions = np.round(predictions).astype(int)"
      ],
      "metadata": {
        "id": "fnyFDOq5f4TZ"
      },
      "execution_count": 34,
      "outputs": []
    },
    {
      "cell_type": "markdown",
      "source": [
        "## 10.Виведіть передбачення та порівняйте з очікуванними резульататми відповідно до таблиці рішень."
      ],
      "metadata": {
        "id": "BeWsfpk9f49h"
      }
    },
    {
      "cell_type": "code",
      "source": [
        "# 10. Виведення результатів\n",
        "for i, (x, expected) in enumerate(train):\n",
        "    print(f\"Вхідні дані: {x} -> Передбачення: {rounded_predictions[i][0]}, Очікуване: {expected}\")"
      ],
      "metadata": {
        "colab": {
          "base_uri": "https://localhost:8080/"
        },
        "id": "5FKycic7gC4J",
        "outputId": "89dcb534-137a-40e4-a22f-7b4b190e4f3b"
      },
      "execution_count": 35,
      "outputs": [
        {
          "output_type": "stream",
          "name": "stdout",
          "text": [
            "Вхідні дані: [0, 0, 0] -> Передбачення: 0, Очікуване: 0\n",
            "Вхідні дані: [0, 0, 1] -> Передбачення: 1, Очікуване: 1\n",
            "Вхідні дані: [0, 1, 0] -> Передбачення: 0, Очікуване: 0\n",
            "Вхідні дані: [0, 1, 1] -> Передбачення: 0, Очікуване: 0\n",
            "Вхідні дані: [1, 0, 0] -> Передбачення: 1, Очікуване: 1\n",
            "Вхідні дані: [1, 0, 1] -> Передбачення: 1, Очікуване: 1\n",
            "Вхідні дані: [1, 1, 0] -> Передбачення: 0, Очікуване: 0\n",
            "Вхідні дані: [1, 1, 1] -> Передбачення: 0, Очікуване: 0\n"
          ]
        }
      ]
    },
    {
      "cell_type": "markdown",
      "source": [
        "## 11.Відкорегуйте значення кількості епох та швидкості навчання, якщо передбачення моделі не сходяться з очікуваними результатами."
      ],
      "metadata": {
        "id": "rzPKg7N9gG8R"
      }
    },
    {
      "cell_type": "code",
      "source": [
        "# 11. Перевірка точності\n",
        "loss, accuracy = model.evaluate(X_train, y_train, verbose=0)\n",
        "print(f\"Втрати: {loss:.5f}, Точність: {accuracy*100:.2f}%\")"
      ],
      "metadata": {
        "colab": {
          "base_uri": "https://localhost:8080/"
        },
        "id": "TdaqjiEJgO-R",
        "outputId": "f1035bd7-3f8f-4d15-b5e0-ac0d4da69f5b"
      },
      "execution_count": 36,
      "outputs": [
        {
          "output_type": "stream",
          "name": "stdout",
          "text": [
            "Втрати: 0.03734, Точність: 100.00%\n"
          ]
        }
      ]
    },
    {
      "cell_type": "markdown",
      "source": [
        "Передбачення моделі повністю сходяться з очікуваними результатами"
      ],
      "metadata": {
        "id": "rn8utRuXpyhG"
      }
    },
    {
      "cell_type": "markdown",
      "source": [
        "## Повний код"
      ],
      "metadata": {
        "id": "uK-cnSiGoTdv"
      }
    },
    {
      "cell_type": "code",
      "source": [
        "# 2. Підготовка даних\n",
        "train = [\n",
        "    ([0, 0, 0], 0),\n",
        "    ([0, 0, 1], 1),\n",
        "    ([0, 1, 0], 0),\n",
        "    ([0, 1, 1], 0),\n",
        "    ([1, 0, 0], 1),\n",
        "    ([1, 0, 1], 1),\n",
        "    ([1, 1, 0], 0),\n",
        "    ([1, 1, 1], 0),\n",
        "]\n",
        "\n",
        "X_train = np.array([x for x, y in train])\n",
        "y_train = np.array([y for x, y in train])\n",
        "\n",
        "# 3. Ініціалізація моделі\n",
        "model = Sequential()\n",
        "\n",
        "# 4. Додаємо прихований шар (2 нейрони, вхід з 3-х ознак)\n",
        "model.add(Dense(2, input_dim=3, activation='sigmoid'))\n",
        "\n",
        "# 5. Додаємо вихідний шар (1 нейрон, активація — сигмоїдна)\n",
        "model.add(Dense(1, activation='sigmoid'))\n",
        "\n",
        "# 6. Компіляція моделі\n",
        "learning_rate = 0.05  # взяте з Завдання 1\n",
        "optimizer = SGD(learning_rate=learning_rate)\n",
        "model.compile(optimizer=optimizer, loss='binary_crossentropy', metrics=['accuracy'])\n",
        "\n",
        "# 7. Навчання моделі\n",
        "epochs = 5000  # взяте з Завдання 1\n",
        "model.fit(X_train, y_train, epochs=epochs, verbose=0)\n",
        "\n",
        "# 8. Генерація передбачень\n",
        "predictions = model.predict(X_train)\n",
        "\n",
        "# 9. Округлення ймовірностей до класів (0 або 1)\n",
        "rounded_predictions = np.round(predictions).astype(int)\n",
        "\n",
        "# 10. Виведення результатів\n",
        "for i, (x, expected) in enumerate(train):\n",
        "    print(f\"Вхідні дані: {x} -> Передбачення: {rounded_predictions[i][0]}, Очікуване: {expected}\")\n",
        "\n",
        "# 11. Перевірка точності\n",
        "loss, accuracy = model.evaluate(X_train, y_train, verbose=0)\n",
        "print(f\"\\nВтрати: {loss:.5f}, Точність: {accuracy*100:.2f}%\")\n",
        "\n"
      ],
      "metadata": {
        "id": "zfkOWSYuhIpi",
        "colab": {
          "base_uri": "https://localhost:8080/"
        },
        "outputId": "8252ce5f-fe6f-4b63-86b1-23dafc0f2937"
      },
      "execution_count": 32,
      "outputs": [
        {
          "output_type": "stream",
          "name": "stdout",
          "text": [
            "\u001b[1m1/1\u001b[0m \u001b[32m━━━━━━━━━━━━━━━━━━━━\u001b[0m\u001b[37m\u001b[0m \u001b[1m0s\u001b[0m 60ms/step\n",
            "Вхідні дані: [0, 0, 0] -> Передбачення: 0, Очікуване: 0\n",
            "Вхідні дані: [0, 0, 1] -> Передбачення: 1, Очікуване: 1\n",
            "Вхідні дані: [0, 1, 0] -> Передбачення: 0, Очікуване: 0\n",
            "Вхідні дані: [0, 1, 1] -> Передбачення: 0, Очікуване: 0\n",
            "Вхідні дані: [1, 0, 0] -> Передбачення: 1, Очікуване: 1\n",
            "Вхідні дані: [1, 0, 1] -> Передбачення: 1, Очікуване: 1\n",
            "Вхідні дані: [1, 1, 0] -> Передбачення: 0, Очікуване: 0\n",
            "Вхідні дані: [1, 1, 1] -> Передбачення: 0, Очікуване: 0\n",
            "\n",
            "Втрати: 0.03734, Точність: 100.00%\n"
          ]
        }
      ]
    },
    {
      "cell_type": "markdown",
      "source": [
        "## Висновки"
      ],
      "metadata": {
        "id": "vBan12M6okwf"
      }
    },
    {
      "cell_type": "markdown",
      "source": [
        "Експериментально підібрано гіперпараметри: 1. кількість епох: 5000, 2. швидкість навчання: 0.05.\n",
        "\n",
        "Після навчання моделі значення втрат знизилось до 0.03, точність становила 100%, передбачення точно збіглися з очікуваними значеннями.\n",
        "\n",
        "В процесі стикнулися з доволі довгим навчанням моделі.\n",
        "\n",
        "Модель успішно впоралась з поставленою задачею."
      ],
      "metadata": {
        "id": "_NmX0kbdopQe"
      }
    }
  ]
}