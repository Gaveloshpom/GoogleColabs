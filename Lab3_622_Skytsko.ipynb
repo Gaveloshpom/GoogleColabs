{
  "nbformat": 4,
  "nbformat_minor": 0,
  "metadata": {
    "colab": {
      "provenance": [],
      "toc_visible": true,
      "authorship_tag": "ABX9TyODy1udFuEnfRZ73GfknS8z",
      "include_colab_link": true
    },
    "kernelspec": {
      "name": "python3",
      "display_name": "Python 3"
    },
    "language_info": {
      "name": "python"
    }
  },
  "cells": [
    {
      "cell_type": "markdown",
      "metadata": {
        "id": "view-in-github",
        "colab_type": "text"
      },
      "source": [
        "<a href=\"https://colab.research.google.com/github/Gaveloshpom/GoogleColabs/blob/main/Lab3_622_Skytsko.ipynb\" target=\"_parent\"><img src=\"https://colab.research.google.com/assets/colab-badge.svg\" alt=\"Open In Colab\"/></a>"
      ]
    },
    {
      "cell_type": "markdown",
      "source": [
        "<center>МІНІСТЕРСТВО ОСВІТИ І НАУКИ УКРАЇНИ</center>\n",
        "\n",
        "<center>Національний аерокосмічний університет ім. М. Є. Жуковського  \n",
        "«Харківський авіаційний інститут»</center>\n",
        "\n",
        "<center>факультет програмної інженерії та бізнесу</center>\n",
        "<center>кафедра інженерії програмного забезпечення</center>\n",
        "\n",
        "---\n",
        "\n",
        "<center>Лабораторна робота №3</center>\n",
        "\n",
        "<center>з дисципліни «Штучний інтелект та бази знань»</center>\n",
        "\n",
        "<center>на тему: «Двошарові нейромережі»</center>\n",
        "\n",
        "---\n",
        "\n",
        "**Виконав:** студент 2 курсу групи **622П**  \n",
        "напряму підготовки (спеціальності) - **121 інженерія програмного забезпечення**  \n",
        "**Скицко Р. С.**\n",
        "\n",
        "---\n",
        "\n",
        "<center>Харків — 2025</center>"
      ],
      "metadata": {
        "id": "Elmnbkr8yv74"
      }
    },
    {
      "cell_type": "markdown",
      "source": [
        "# **КРОК 1.**\n",
        "Користуючись представленим варіантом реалізації нейромережі з пороговою активаційною функцією проведіть тестування функції predict з різними наборами вхідних даних test_cases та зробіть висновки. Передбачення мають відповідати тим, що зазначені в таблиці рішень у колонці «Йти в похід».\n"
      ],
      "metadata": {
        "id": "C-rgDXgZy4sO"
      }
    },
    {
      "cell_type": "markdown",
      "source": [
        "## **Імпорт необхідних бібліотек**"
      ],
      "metadata": {
        "id": "1Ui2BVerzxyW"
      }
    },
    {
      "cell_type": "code",
      "source": [
        "import numpy as np"
      ],
      "metadata": {
        "id": "aD74n9Oiz1oG"
      },
      "execution_count": 2,
      "outputs": []
    },
    {
      "cell_type": "markdown",
      "source": [
        "## **Код**"
      ],
      "metadata": {
        "id": "CdawXOkjUTZN"
      }
    },
    {
      "cell_type": "code",
      "execution_count": null,
      "metadata": {
        "colab": {
          "base_uri": "https://localhost:8080/"
        },
        "id": "nEAfZuhgyT31",
        "outputId": "e021fbe8-e5c8-43ca-e38e-2c445590b6bd"
      },
      "outputs": [
        {
          "output_type": "execute_result",
          "data": {
            "text/plain": [
              "{(0, 0, 0): 0,\n",
              " (0, 0, 1): 1,\n",
              " (0, 1, 0): 0,\n",
              " (0, 1, 1): 1,\n",
              " (1, 0, 0): 1,\n",
              " (1, 0, 1): 1,\n",
              " (1, 1, 0): 0,\n",
              " (1, 1, 1): 0}"
            ]
          },
          "metadata": {},
          "execution_count": 4
        }
      ],
      "source": [
        "# Оголошення функції активації\n",
        "def activation_function(x):\n",
        "  if x >= 0.5:\n",
        "    return 1\n",
        "  else:\n",
        "    return 0\n",
        "\n",
        "# Функція для виконання передбачення на основі трьох вхідних змінних: tent, rain, friend\n",
        "def predict(tent, rain, friend):\n",
        "  inputs = np.array([tent, rain, friend]) # Формуємо вхідний масив з параметрів\n",
        "\n",
        "  # Ваги для першого шару (від вхідного до прихованого)\n",
        "  weights_input_to_hidden = np.array([\n",
        "      [0.25, 0.25, 0],\n",
        "      [0.5, -0.4, 0.9]\n",
        "  ])\n",
        "\n",
        "  hidden_input = np.dot(weights_input_to_hidden, inputs) # Розрахунок вхідних сигналів прихованого шару\n",
        "  hidden_output = np.vectorize(activation_function)(hidden_input) # Активація прихованого шару\n",
        "\n",
        "  # Ваги для вихідного шару (від прихованого до вихідного)\n",
        "  weights_hidden_to_output = np.array([-1, 1])\n",
        "  output = np.dot(weights_hidden_to_output, hidden_output) # Розрахунок вихідного сигналу мережі\n",
        "\n",
        "  return activation_function(output)\n",
        "\n",
        "# Масив тестових випадків\n",
        "test_cases = [\n",
        "    (0, 0, 0),\n",
        "    (0, 0, 1),\n",
        "    (0, 1, 0),\n",
        "    (0, 1, 1),\n",
        "    (1, 0, 0),\n",
        "    (1, 0, 1),\n",
        "    (1, 1, 0),\n",
        "    (1, 1, 1)\n",
        "]\n",
        "\n",
        "# Виконання передбачень для кожного тестового випадку та збереження результатів у словнику\n",
        "predictions = {case: predict(*case) for case in test_cases}\n",
        "predictions # Виведення результатів"
      ]
    },
    {
      "cell_type": "markdown",
      "source": [
        "## **Висновки**\n"
      ],
      "metadata": {
        "id": "xKCIoh7AUbF2"
      }
    },
    {
      "cell_type": "markdown",
      "source": [
        "У першому кроці модель реалізована як двошарова мережа з пороговою активаційною функцією. Вона підходить для простого бінарного класифікатора, але має обмеження щодо гнучкості та здатності до навчання."
      ],
      "metadata": {
        "id": "57UG4oNNY_kH"
      }
    },
    {
      "cell_type": "markdown",
      "source": [
        "# **КРОК 2.** Користуючись матеріалами лекції 5, замість порогової активаційної функції (activation_function) застосуйте наступні (як для нейронів прихованого, так і вихідного шарів):\n",
        "\n",
        "\n",
        "1.   **Сігмоідну функцію;**\n",
        "2.   **Функцію TANH;**\n",
        "3.   **Функцію reLU.Функцію reLU.**"
      ],
      "metadata": {
        "id": "-lCCc3FWCrTy"
      }
    },
    {
      "cell_type": "markdown",
      "source": [
        "## **Сигмоїдна функція**"
      ],
      "metadata": {
        "id": "f6a2vk4uDYeh"
      }
    },
    {
      "cell_type": "code",
      "source": [
        "# Оголошення функції активації(сигмоїдна)\n",
        "def activation_function(x):\n",
        "    return 1 / (1 + np.exp(-x))\n",
        "\n",
        "# Функція для виконання передбачення на основі трьох вхідних змінних: tent, rain, friend\n",
        "def predict(tent, rain, friend):\n",
        "  inputs = np.array([tent, rain, friend]) # Формуємо вхідний масив з параметрів\n",
        "\n",
        "  # Ваги для першого шару (від вхідного до прихованого)\n",
        "  weights_input_to_hidden = np.array([\n",
        "      [0.25, 0.25, 0],\n",
        "      [0.5, -0.4, 0.9]\n",
        "  ])\n",
        "\n",
        "  hidden_input = np.dot(weights_input_to_hidden, inputs) # Розрахунок вхідних сигналів прихованого шару\n",
        "  hidden_output = np.vectorize(activation_function)(hidden_input) # Активація прихованого шару\n",
        "\n",
        "  # Ваги для вихідного шару (від прихованого до вихідного)\n",
        "  weights_hidden_to_output = np.array([-1, 1])\n",
        "  output = np.dot(weights_hidden_to_output, hidden_output) # Розрахунок вихідного сигналу мережі\n",
        "\n",
        "  # return int(activation_function(output) >= 0.5)\n",
        "  return activation_function(output)\n",
        "\n",
        "# Масив тестових випадків\n",
        "test_cases = [\n",
        "    (0, 0, 0),\n",
        "    (0, 0, 1),\n",
        "    (0, 1, 0),\n",
        "    (0, 1, 1),\n",
        "    (1, 0, 0),\n",
        "    (1, 0, 1),\n",
        "    (1, 1, 0),\n",
        "    (1, 1, 1)\n",
        "]\n",
        "\n",
        "# Виконання передбачень для кожного тестового випадку та збереження результатів у словнику\n",
        "predictions = {case: predict(*case) for case in test_cases}\n",
        "\n",
        "predictions # Виведення результатів"
      ],
      "metadata": {
        "colab": {
          "base_uri": "https://localhost:8080/"
        },
        "id": "zrP0JQjK6rqq",
        "outputId": "08eb1af9-0724-4cf2-999c-c906227de6c2"
      },
      "execution_count": 23,
      "outputs": [
        {
          "output_type": "execute_result",
          "data": {
            "text/plain": [
              "{(0, 0, 0): np.float64(0.5),\n",
              " (0, 0, 1): np.float64(0.5525426756022745),\n",
              " (0, 1, 0): np.float64(0.45987045939191884),\n",
              " (0, 1, 1): np.float64(0.5150661452996821),\n",
              " (1, 0, 0): np.float64(0.5150661452996821),\n",
              " (1, 0, 1): np.float64(0.5597154698422138),\n",
              " (1, 1, 0): np.float64(0.4756492435247045),\n",
              " (1, 1, 1): np.float64(0.5271231600094769)}"
            ]
          },
          "metadata": {},
          "execution_count": 23
        }
      ]
    },
    {
      "cell_type": "markdown",
      "source": [
        "## **Функція TANH**"
      ],
      "metadata": {
        "id": "Nhf90fHqVhwl"
      }
    },
    {
      "cell_type": "code",
      "source": [
        "# Оголошення функції активації(TANH)\n",
        "def activation_function(x):\n",
        "    return np.tanh(x)\n",
        "\n",
        "# Функція для виконання передбачення на основі трьох вхідних змінних: tent, rain, friend\n",
        "def predict(tent, rain, friend):\n",
        "  inputs = np.array([tent, rain, friend]) # Формуємо вхідний масив з параметрів\n",
        "\n",
        "  # Ваги для першого шару (від вхідного до прихованого)\n",
        "  weights_input_to_hidden = np.array([\n",
        "      [0.25, 0.25, 0],\n",
        "      [0.5, -0.4, 0.9]\n",
        "  ])\n",
        "\n",
        "  hidden_input = np.dot(weights_input_to_hidden, inputs) # Розрахунок вхідних сигналів прихованого шару\n",
        "  hidden_output = np.vectorize(activation_function)(hidden_input) # Активація прихованого шару\n",
        "\n",
        "  # Ваги для вихідного шару (від прихованого до вихідного)\n",
        "  weights_hidden_to_output = np.array([-1, 1])\n",
        "  output = np.dot(weights_hidden_to_output, hidden_output) # Розрахунок вихідного сигналу мережі\n",
        "\n",
        "  # return int(activation_function(output) >= 0.5)\n",
        "  return activation_function(output)\n",
        "\n",
        "# Масив тестових випадків\n",
        "test_cases = [\n",
        "    (0, 0, 0),\n",
        "    (0, 0, 1),\n",
        "    (0, 1, 0),\n",
        "    (0, 1, 1),\n",
        "    (1, 0, 0),\n",
        "    (1, 0, 1),\n",
        "    (1, 1, 0),\n",
        "    (1, 1, 1)\n",
        "]\n",
        "\n",
        "# Виконання передбачень для кожного тестового випадку та збереження результатів у словнику\n",
        "predictions = {case: predict(*case) for case in test_cases}\n",
        "\n",
        "predictions # Виведення результатів"
      ],
      "metadata": {
        "colab": {
          "base_uri": "https://localhost:8080/"
        },
        "id": "FlOIrJYz7RLY",
        "outputId": "ce051c7f-953e-4c9d-afb2-95977de3f799"
      },
      "execution_count": 21,
      "outputs": [
        {
          "output_type": "execute_result",
          "data": {
            "text/plain": [
              "{(0, 0, 0): np.float64(0.0),\n",
              " (0, 0, 1): np.float64(0.6146108800375119),\n",
              " (0, 1, 0): np.float64(-0.5545080563993587),\n",
              " (0, 1, 1): np.float64(0.21384627745769771),\n",
              " (1, 0, 0): np.float64(0.21384627745769771),\n",
              " (1, 0, 1): np.float64(0.5651942957844212),\n",
              " (1, 1, 0): np.float64(-0.34736949665302447),\n",
              " (1, 1, 1): np.float64(0.29083392173881667)}"
            ]
          },
          "metadata": {},
          "execution_count": 21
        }
      ]
    },
    {
      "cell_type": "markdown",
      "source": [
        "## **Функція ReLU**"
      ],
      "metadata": {
        "id": "wFefXK26VpmI"
      }
    },
    {
      "cell_type": "code",
      "source": [
        "# Оголошення функції активації(ReLU)\n",
        "def activation_function(x):\n",
        "    return np.maximum(0, x)\n",
        "\n",
        "# Функція для виконання передбачення на основі трьох вхідних змінних: tent, rain, friend\n",
        "def predict(tent, rain, friend):\n",
        "  inputs = np.array([tent, rain, friend]) # Формуємо вхідний масив з параметрів\n",
        "\n",
        "  # Ваги для першого шару (від вхідного до прихованого)\n",
        "  weights_input_to_hidden = np.array([\n",
        "      [0.25, 0.25, 0],\n",
        "      [0.5, -0.4, 0.9]\n",
        "  ])\n",
        "\n",
        "  hidden_input = np.dot(weights_input_to_hidden, inputs) # Розрахунок вхідних сигналів прихованого шару\n",
        "  hidden_output = np.vectorize(activation_function)(hidden_input) # Активація прихованого шару\n",
        "\n",
        "  # Ваги для вихідного шару (від прихованого до вихідного)\n",
        "  weights_hidden_to_output = np.array([-1, 1])\n",
        "  output = np.dot(weights_hidden_to_output, hidden_output) # Розрахунок вихідного сигналу мережі\n",
        "\n",
        "  # return int(activation_function(output) >= 0.5)\n",
        "  return activation_function(output)\n",
        "\n",
        "# Масив тестових випадків\n",
        "test_cases = [\n",
        "    (0, 0, 0),\n",
        "    (0, 0, 1),\n",
        "    (0, 1, 0),\n",
        "    (0, 1, 1),\n",
        "    (1, 0, 0),\n",
        "    (1, 0, 1),\n",
        "    (1, 1, 0),\n",
        "    (1, 1, 1)\n",
        "]\n",
        "\n",
        "# Виконання передбачень для кожного тестового випадку та збереження результатів у словнику\n",
        "predictions = {case: predict(*case) for case in test_cases}\n",
        "\n",
        "predictions # Виведення результатів"
      ],
      "metadata": {
        "colab": {
          "base_uri": "https://localhost:8080/"
        },
        "id": "-Uk1_r4Q9mKQ",
        "outputId": "0ed884e7-0fb2-4fea-db33-5a8781049ea4"
      },
      "execution_count": 19,
      "outputs": [
        {
          "output_type": "execute_result",
          "data": {
            "text/plain": [
              "{(0, 0, 0): np.float64(0.0),\n",
              " (0, 0, 1): np.float64(0.9),\n",
              " (0, 1, 0): np.float64(0.0),\n",
              " (0, 1, 1): np.float64(0.25),\n",
              " (1, 0, 0): np.float64(0.25),\n",
              " (1, 0, 1): np.float64(1.15),\n",
              " (1, 1, 0): np.float64(0.0),\n",
              " (1, 1, 1): np.float64(0.5)}"
            ]
          },
          "metadata": {},
          "execution_count": 19
        }
      ]
    },
    {
      "cell_type": "markdown",
      "source": [
        "# **КРОК 3.** Проведіть тестування власних реалізацій двошарової нейромережі з різними активаційними функціями та зробіть розгорнуті висновки на основі отриманих результатів.\n"
      ],
      "metadata": {
        "id": "WZdoymMgXAbO"
      }
    },
    {
      "cell_type": "markdown",
      "source": [
        "## Тестування"
      ],
      "metadata": {
        "id": "sWt06uvaX14O"
      }
    },
    {
      "cell_type": "code",
      "source": [
        "# Активіційні функції\n",
        "def sigmoid(x):\n",
        "    return 1 / (1 + np.exp(-x))\n",
        "\n",
        "def tanh(x):\n",
        "    return np.tanh(x)\n",
        "\n",
        "def relu(x):\n",
        "    return np.maximum(0, x)\n",
        "\n",
        "# Узагальнена функція для прогнозу\n",
        "def predict(tent, rain, friend, activation):\n",
        "    inputs = np.array([tent, rain, friend])\n",
        "\n",
        "    weights_input_to_hidden = np.array([\n",
        "        [0.25, 0.25, 0],\n",
        "        [0.5, -0.4, 0.9]\n",
        "    ])\n",
        "\n",
        "    hidden_input = np.dot(weights_input_to_hidden, inputs)\n",
        "    hidden_output = activation(hidden_input)\n",
        "\n",
        "    weights_hidden_to_output = np.array([-1, 1])\n",
        "    output = np.dot(weights_hidden_to_output, hidden_output)\n",
        "    output_final = activation(output)\n",
        "\n",
        "    # Результат буде йти в (0,1), перетворення в 0 або 1\n",
        "    return int(output_final >= 0.5)\n",
        "\n",
        "# Тестові дані\n",
        "test_cases = [\n",
        "    (0, 0, 0),\n",
        "    (0, 0, 1),\n",
        "    (0, 1, 0),\n",
        "    (0, 1, 1),\n",
        "    (1, 0, 0),\n",
        "    (1, 0, 1),\n",
        "    (1, 1, 0),\n",
        "    (1, 1, 1)\n",
        "]\n",
        "\n",
        "# Тестування для кожної функції\n",
        "activations = {\n",
        "    'Sigmoid': sigmoid,\n",
        "    'Tanh': tanh,\n",
        "    'ReLU': relu\n",
        "}\n",
        "\n",
        "for name, func in activations.items():\n",
        "    print(f\"\\n--- {name} ---\")\n",
        "    for case in test_cases:\n",
        "        result = predict(*case, activation=func)\n",
        "        print(f\"{case}: {result}\")\n"
      ],
      "metadata": {
        "colab": {
          "base_uri": "https://localhost:8080/"
        },
        "id": "vHwL0svaX3vm",
        "outputId": "4811c597-6abb-4344-9da7-87a25c26d295"
      },
      "execution_count": 16,
      "outputs": [
        {
          "output_type": "stream",
          "name": "stdout",
          "text": [
            "\n",
            "--- Sigmoid ---\n",
            "(0, 0, 0): 1\n",
            "(0, 0, 1): 1\n",
            "(0, 1, 0): 0\n",
            "(0, 1, 1): 1\n",
            "(1, 0, 0): 1\n",
            "(1, 0, 1): 1\n",
            "(1, 1, 0): 0\n",
            "(1, 1, 1): 1\n",
            "\n",
            "--- Tanh ---\n",
            "(0, 0, 0): 0\n",
            "(0, 0, 1): 1\n",
            "(0, 1, 0): 0\n",
            "(0, 1, 1): 0\n",
            "(1, 0, 0): 0\n",
            "(1, 0, 1): 1\n",
            "(1, 1, 0): 0\n",
            "(1, 1, 1): 0\n",
            "\n",
            "--- ReLU ---\n",
            "(0, 0, 0): 0\n",
            "(0, 0, 1): 1\n",
            "(0, 1, 0): 0\n",
            "(0, 1, 1): 0\n",
            "(1, 0, 0): 0\n",
            "(1, 0, 1): 1\n",
            "(1, 1, 0): 0\n",
            "(1, 1, 1): 1\n"
          ]
        }
      ]
    },
    {
      "cell_type": "markdown",
      "source": [
        "## **Висновки**"
      ],
      "metadata": {
        "id": "uaNwNM9gY0aO"
      }
    },
    {
      "cell_type": "markdown",
      "source": [
        "На першому етапі для активації нейронів використовувалась порогова функція, яка реалізує просту логіку: якщо вхід перевищує поріг, вихід — 1, інакше — 0. Такий підхід ефективний для задач, де необхідно реалізувати жорстке бінарне рішення.\n",
        "\n",
        "На наступному етапі було замінено порогову функцію на більш гнучкі: sigmoid, tanh та ReLU. Ці функції мають здатність відображати ступінь впевненості нейрона у прийнятому рішенні. Наприклад, сигмоїдна функція відображає результат у межах (0, 1), гіперболічний тангенс — у межах (–1, 1), а ReLU пропускає лише додатні значення, нульуючи від’ємні.\n",
        "\n",
        "Результати роботи моделі з цими функціями значно відрізнялись від результатів з пороговою функцією. Причиною цього є те, що мережа не проходила етап навчання, тобто ваги були задані вручну й залишались незмінними. Для порогової функції ці ваги були підібрані так, щоб моделювати логічну схему, але для sigmoid, tanh та ReLU вони вже не є оптимальними. Такі функції потребують корекції ваг. Без цього результати можуть здаватися некоректними або нелогічними.\n"
      ],
      "metadata": {
        "id": "46e7XXPFY3AX"
      }
    }
  ]
}