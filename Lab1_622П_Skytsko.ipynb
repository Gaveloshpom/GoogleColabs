{
  "nbformat": 4,
  "nbformat_minor": 0,
  "metadata": {
    "colab": {
      "provenance": [],
      "collapsed_sections": [
        "BqyCv-cl12tq",
        "bE-OLP8fHEgm",
        "cMgoYERu4asE"
      ],
      "toc_visible": true,
      "authorship_tag": "ABX9TyMoEqhFXEpScH9wOk4NMB6J",
      "include_colab_link": true
    },
    "kernelspec": {
      "name": "python3",
      "display_name": "Python 3"
    },
    "language_info": {
      "name": "python"
    }
  },
  "cells": [
    {
      "cell_type": "markdown",
      "metadata": {
        "id": "view-in-github",
        "colab_type": "text"
      },
      "source": [
        "<a href=\"https://colab.research.google.com/github/Gaveloshpom/GoogleColabs/blob/main/Lab1_622%D0%9F_Skytsko.ipynb\" target=\"_parent\"><img src=\"https://colab.research.google.com/assets/colab-badge.svg\" alt=\"Open In Colab\"/></a>"
      ]
    },
    {
      "cell_type": "markdown",
      "source": [
        "<center>МІНІСТЕРСТВО ОСВІТИ І НАУКИ УКРАЇНИ</center>\n",
        "\n",
        "<center>Національний аерокосмічний університет ім. М. Є. Жуковського  \n",
        "«Харківський авіаційний інститут»</center>\n",
        "\n",
        "<center>факультет програмної інженерії та бізнесу</center>\n",
        "<center>кафедра інженерії програмного забезпечення</center>\n",
        "\n",
        "---\n",
        "\n",
        "<center>Лабораторна робота №1</center>\n",
        "\n",
        "<center>з дисципліни «Штучний інтелект ат бази знань»</center>\n",
        "\n",
        "<center>на тему: «Введення в Google Colab»</center>\n",
        "\n",
        "---\n",
        "\n",
        "**Виконав:** студент 2 курсу групи **622П**  \n",
        "напряму підготовки (спеціальності) - **121 інженерія програмного забезпечення**  \n",
        "**Скицко Р. С.**\n",
        "\n",
        "---\n",
        "\n",
        "<center>Харків — 2025</center>\n"
      ],
      "metadata": {
        "id": "7Hhp4x0DyLGW"
      }
    },
    {
      "cell_type": "markdown",
      "source": [
        "# <center>РОЗДІЛ 1. PYTHON</center>"
      ],
      "metadata": {
        "id": "BqyCv-cl12tq"
      }
    },
    {
      "cell_type": "markdown",
      "source": [
        "##Створити та вивести на екран змінні різних типів"
      ],
      "metadata": {
        "id": "VIwmYqTHDIuo"
      }
    },
    {
      "cell_type": "code",
      "source": [
        "ex_str = \"Hello world!\"\n",
        "ex_int = 1\n",
        "ex_float = 1.1\n",
        "ex_list = list(range(1, 10))\n",
        "ex_tuple = (\"apple\", \"banana\", \"cherry\", \"apple\", \"cherry\")\n",
        "ex_dict = {\n",
        "    1: \"ex_1\",\n",
        "    2: \"ex_2\",\n",
        "    3: \"ex_3\",\n",
        "    \"4\": \"ex_4\"\n",
        "           }\n",
        "ex_set = {\"Hello\", \"World\", \"!!!!\"}\n",
        "\n",
        "print(f\"str: {ex_str}\")\n",
        "print(f\"int: {ex_int}\")\n",
        "print(f\"float: {ex_float}\")\n",
        "print(f\"list: {ex_list}\")\n",
        "print(f\"tuple: {ex_tuple}\")\n",
        "print(f\"dict: {ex_dict}\")\n",
        "print(f\"set: {ex_set}\")"
      ],
      "metadata": {
        "colab": {
          "base_uri": "https://localhost:8080/"
        },
        "id": "zd1iiuf319pJ",
        "outputId": "9249ad19-c1af-48b2-8cf8-099daa5c2a8d"
      },
      "execution_count": null,
      "outputs": [
        {
          "output_type": "stream",
          "name": "stdout",
          "text": [
            "str: Hello world!\n",
            "int: 1\n",
            "float: 1.1\n",
            "list: [1, 2, 3, 4, 5, 6, 7, 8, 9]\n",
            "tuple: ('apple', 'banana', 'cherry', 'apple', 'cherry')\n",
            "dict: {1: 'ex_1', 2: 'ex_2', 3: 'ex_3', '4': 'ex_4'}\n",
            "set: {'!!!!', 'World', 'Hello'}\n"
          ]
        }
      ]
    },
    {
      "cell_type": "markdown",
      "source": [
        "##Створити цикл на 100 ітерацій та вивести на екран результат його виконання"
      ],
      "metadata": {
        "id": "1AmKbJhCDkXH"
      }
    },
    {
      "cell_type": "code",
      "source": [
        "ex = [i for i in range(1, 101)]\n",
        "print(ex)"
      ],
      "metadata": {
        "colab": {
          "base_uri": "https://localhost:8080/"
        },
        "id": "P7CH0BwY3cvL",
        "outputId": "480677e0-2f31-46cf-d151-da122b2645b2"
      },
      "execution_count": null,
      "outputs": [
        {
          "output_type": "stream",
          "name": "stdout",
          "text": [
            "[1, 2, 3, 4, 5, 6, 7, 8, 9, 10, 11, 12, 13, 14, 15, 16, 17, 18, 19, 20, 21, 22, 23, 24, 25, 26, 27, 28, 29, 30, 31, 32, 33, 34, 35, 36, 37, 38, 39, 40, 41, 42, 43, 44, 45, 46, 47, 48, 49, 50, 51, 52, 53, 54, 55, 56, 57, 58, 59, 60, 61, 62, 63, 64, 65, 66, 67, 68, 69, 70, 71, 72, 73, 74, 75, 76, 77, 78, 79, 80, 81, 82, 83, 84, 85, 86, 87, 88, 89, 90, 91, 92, 93, 94, 95, 96, 97, 98, 99, 100]\n"
          ]
        }
      ]
    },
    {
      "cell_type": "markdown",
      "source": [
        "##Опрацювати розгалуження (if/else)"
      ],
      "metadata": {
        "id": "dpINvjQjDuT_"
      }
    },
    {
      "cell_type": "code",
      "source": [
        "a = 6\n",
        "b = 6\n",
        "if(a > b):\n",
        "  print(\"a > b\")\n",
        "elif(a == b):\n",
        "  print(\"a == b\")\n",
        "else:\n",
        "  print(\"a < b\")"
      ],
      "metadata": {
        "colab": {
          "base_uri": "https://localhost:8080/"
        },
        "id": "1k84o9Ku5mRT",
        "outputId": "7a6a5b8b-c024-4155-b70b-a63a77bfe01d"
      },
      "execution_count": null,
      "outputs": [
        {
          "output_type": "stream",
          "name": "stdout",
          "text": [
            "a == b\n"
          ]
        }
      ]
    },
    {
      "cell_type": "markdown",
      "source": [
        "##Опрацювати роботу з функціямии"
      ],
      "metadata": {
        "id": "5_lvdEKlD7Cf"
      }
    },
    {
      "cell_type": "code",
      "source": [
        "def say_hello():\n",
        "    print('Привіт, Світ!')\n",
        "\n",
        "say_hello()\n",
        "\n",
        "say_hello()"
      ],
      "metadata": {
        "colab": {
          "base_uri": "https://localhost:8080/"
        },
        "id": "f90R4OA97CRw",
        "outputId": "8b4db286-8add-44ff-e364-62938dcc88f8"
      },
      "execution_count": null,
      "outputs": [
        {
          "output_type": "stream",
          "name": "stdout",
          "text": [
            "Привіт, Світ!\n",
            "Привіт, Світ!\n",
            "4 максимально\n",
            "7 максимально\n"
          ]
        }
      ]
    },
    {
      "cell_type": "code",
      "source": [
        "# Аргументи\n",
        "def print_max(a, b):\n",
        "    if a > b:\n",
        "        print(a, 'максимально')\n",
        "    elif a == b:\n",
        "        print(a, 'дорівнює', b)\n",
        "    else:\n",
        "        print(b, 'максимально')\n",
        "\n",
        "print_max(3, 4)\n",
        "\n",
        "x = 5\n",
        "y = 7\n",
        "print_max(x, y)"
      ],
      "metadata": {
        "colab": {
          "base_uri": "https://localhost:8080/"
        },
        "id": "HIr0-chq_psn",
        "outputId": "7b7a3b09-49e7-4fd1-b299-7d95939e09ae"
      },
      "execution_count": null,
      "outputs": [
        {
          "output_type": "stream",
          "name": "stdout",
          "text": [
            "4 максимально\n",
            "7 максимально\n"
          ]
        }
      ]
    },
    {
      "cell_type": "code",
      "source": [
        "# Повернення результату\n",
        "def plus(a, b):\n",
        "  return a + b\n",
        "\n",
        "print(plus(3, 4))\n"
      ],
      "metadata": {
        "colab": {
          "base_uri": "https://localhost:8080/"
        },
        "id": "qwRH9LVQ_-dC",
        "outputId": "57d1a9f6-8ed6-4339-a495-602b828b4e7a"
      },
      "execution_count": null,
      "outputs": [
        {
          "output_type": "stream",
          "name": "stdout",
          "text": [
            "7\n"
          ]
        }
      ]
    },
    {
      "cell_type": "code",
      "source": [
        "# Локальні змінні\n",
        "x = 50\n",
        "\n",
        "def func():\n",
        "    x = 2\n",
        "    print('Зміна локального x на', x)\n",
        "\n",
        "func()\n",
        "print('x як і раніше', x)\n"
      ],
      "metadata": {
        "colab": {
          "base_uri": "https://localhost:8080/"
        },
        "id": "v562qFC-AEac",
        "outputId": "8c613740-0618-45a1-b91f-d86635bdad5e"
      },
      "execution_count": null,
      "outputs": [
        {
          "output_type": "stream",
          "name": "stdout",
          "text": [
            "Зміна локального x на 2\n",
            "x як і раніше 50\n"
          ]
        }
      ]
    },
    {
      "cell_type": "code",
      "source": [
        "# Глобальні змінні\n",
        "x = 50\n",
        "\n",
        "def func():\n",
        "    global x\n",
        "    print('x дорівнює', x)\n",
        "    x = 2\n",
        "    print('Змінюємо глобальне значення x на', x)\n",
        "\n",
        "func()\n",
        "print('Значення x складає', x)\n"
      ],
      "metadata": {
        "colab": {
          "base_uri": "https://localhost:8080/"
        },
        "id": "MlW1udRGAHdx",
        "outputId": "cabd37ec-3265-4182-d81a-7d6837106c83"
      },
      "execution_count": null,
      "outputs": [
        {
          "output_type": "stream",
          "name": "stdout",
          "text": [
            "x дорівнює 50\n",
            "Змінюємо глобальне значення x на 2\n",
            "Значення x складає 2\n"
          ]
        }
      ]
    },
    {
      "cell_type": "code",
      "source": [
        "# Ключові аргументи\n",
        "def func(a, b=5, c=10):\n",
        "    print('a дорівнює', a,', b дорівнює', b,', а c дорівнює', c)\n",
        "\n",
        "func(3, 7)\n",
        "func(25, c=24)\n",
        "func(c=50, a=100)\n"
      ],
      "metadata": {
        "colab": {
          "base_uri": "https://localhost:8080/"
        },
        "id": "p5HnXJVnAPCJ",
        "outputId": "bb42a21d-b588-4cb2-d000-c09805e46378"
      },
      "execution_count": null,
      "outputs": [
        {
          "output_type": "stream",
          "name": "stdout",
          "text": [
            "a дорівнює 3 , b дорівнює 7 , а c дорівнює 10\n",
            "a дорівнює 25 , b дорівнює 5 , а c дорівнює 24\n",
            "a дорівнює 100 , b дорівнює 5 , а c дорівнює 50\n"
          ]
        }
      ]
    },
    {
      "cell_type": "code",
      "source": [
        "# Змінна кіл-ть параметрів\n",
        "def total(a=5, *numbers, **phone_book):\n",
        "    print('a', a)\n",
        "    for single_item in numbers:\n",
        "        print('single_item', single_item)\n",
        "\n",
        "    for first_part, second_part in phone_book.items():\n",
        "        print(first_part,second_part)\n",
        "\n",
        "print(total(10, 1, 2, 3, Jack=1123, John=2231, Inge=1560))\n"
      ],
      "metadata": {
        "colab": {
          "base_uri": "https://localhost:8080/"
        },
        "id": "kefMA91sAV6x",
        "outputId": "1aa0604f-6af8-4883-defb-fbf1441e735f"
      },
      "execution_count": null,
      "outputs": [
        {
          "output_type": "stream",
          "name": "stdout",
          "text": [
            "a 10\n",
            "single_item 1\n",
            "single_item 2\n",
            "single_item 3\n",
            "Jack 1123\n",
            "John 2231\n",
            "Inge 1560\n",
            "None\n"
          ]
        }
      ]
    },
    {
      "cell_type": "code",
      "source": [
        "# Рекурсія\n",
        "def factorial(n):\n",
        "    if n <= 1:\n",
        "        return 1\n",
        "    else:\n",
        "        return n * factorial(n - 1)\n",
        "\n",
        "factorial(5)"
      ],
      "metadata": {
        "colab": {
          "base_uri": "https://localhost:8080/"
        },
        "id": "KG_A2F9-BFK0",
        "outputId": "fc8c2393-09cf-439b-8b6e-8edb63c2c079"
      },
      "execution_count": null,
      "outputs": [
        {
          "output_type": "execute_result",
          "data": {
            "text/plain": [
              "120"
            ]
          },
          "metadata": {},
          "execution_count": 54
        }
      ]
    },
    {
      "cell_type": "markdown",
      "source": [
        "##Створити та вивести на екран одновимірний та двовимірний масииви"
      ],
      "metadata": {
        "id": "2WFoI11cEFs_"
      }
    },
    {
      "cell_type": "code",
      "source": [
        "# Одновимірний масив\n",
        "a = list(range(1, 21))\n",
        "a"
      ],
      "metadata": {
        "colab": {
          "base_uri": "https://localhost:8080/"
        },
        "id": "f-0lw0moBUGd",
        "outputId": "ea86ecb4-81d4-4c77-9073-a63948798b6f"
      },
      "execution_count": null,
      "outputs": [
        {
          "output_type": "execute_result",
          "data": {
            "text/plain": [
              "[1, 2, 3, 4, 5, 6, 7, 8, 9, 10, 11, 12, 13, 14, 15, 16, 17, 18, 19, 20]"
            ]
          },
          "metadata": {},
          "execution_count": 57
        }
      ]
    },
    {
      "cell_type": "code",
      "source": [
        "# Двовимірний масив\n",
        "a = [[i for i in range(1, 21)] for x in range(1, 21)]\n",
        "a"
      ],
      "metadata": {
        "colab": {
          "base_uri": "https://localhost:8080/"
        },
        "id": "KItw8cySBWF9",
        "outputId": "a6b0c1c0-e3a9-4ae5-a2d9-bdfe9359762e"
      },
      "execution_count": null,
      "outputs": [
        {
          "output_type": "execute_result",
          "data": {
            "text/plain": [
              "[[1, 2, 3, 4, 5, 6, 7, 8, 9, 10, 11, 12, 13, 14, 15, 16, 17, 18, 19, 20],\n",
              " [1, 2, 3, 4, 5, 6, 7, 8, 9, 10, 11, 12, 13, 14, 15, 16, 17, 18, 19, 20],\n",
              " [1, 2, 3, 4, 5, 6, 7, 8, 9, 10, 11, 12, 13, 14, 15, 16, 17, 18, 19, 20],\n",
              " [1, 2, 3, 4, 5, 6, 7, 8, 9, 10, 11, 12, 13, 14, 15, 16, 17, 18, 19, 20],\n",
              " [1, 2, 3, 4, 5, 6, 7, 8, 9, 10, 11, 12, 13, 14, 15, 16, 17, 18, 19, 20],\n",
              " [1, 2, 3, 4, 5, 6, 7, 8, 9, 10, 11, 12, 13, 14, 15, 16, 17, 18, 19, 20],\n",
              " [1, 2, 3, 4, 5, 6, 7, 8, 9, 10, 11, 12, 13, 14, 15, 16, 17, 18, 19, 20],\n",
              " [1, 2, 3, 4, 5, 6, 7, 8, 9, 10, 11, 12, 13, 14, 15, 16, 17, 18, 19, 20],\n",
              " [1, 2, 3, 4, 5, 6, 7, 8, 9, 10, 11, 12, 13, 14, 15, 16, 17, 18, 19, 20],\n",
              " [1, 2, 3, 4, 5, 6, 7, 8, 9, 10, 11, 12, 13, 14, 15, 16, 17, 18, 19, 20],\n",
              " [1, 2, 3, 4, 5, 6, 7, 8, 9, 10, 11, 12, 13, 14, 15, 16, 17, 18, 19, 20],\n",
              " [1, 2, 3, 4, 5, 6, 7, 8, 9, 10, 11, 12, 13, 14, 15, 16, 17, 18, 19, 20],\n",
              " [1, 2, 3, 4, 5, 6, 7, 8, 9, 10, 11, 12, 13, 14, 15, 16, 17, 18, 19, 20],\n",
              " [1, 2, 3, 4, 5, 6, 7, 8, 9, 10, 11, 12, 13, 14, 15, 16, 17, 18, 19, 20],\n",
              " [1, 2, 3, 4, 5, 6, 7, 8, 9, 10, 11, 12, 13, 14, 15, 16, 17, 18, 19, 20],\n",
              " [1, 2, 3, 4, 5, 6, 7, 8, 9, 10, 11, 12, 13, 14, 15, 16, 17, 18, 19, 20],\n",
              " [1, 2, 3, 4, 5, 6, 7, 8, 9, 10, 11, 12, 13, 14, 15, 16, 17, 18, 19, 20],\n",
              " [1, 2, 3, 4, 5, 6, 7, 8, 9, 10, 11, 12, 13, 14, 15, 16, 17, 18, 19, 20],\n",
              " [1, 2, 3, 4, 5, 6, 7, 8, 9, 10, 11, 12, 13, 14, 15, 16, 17, 18, 19, 20],\n",
              " [1, 2, 3, 4, 5, 6, 7, 8, 9, 10, 11, 12, 13, 14, 15, 16, 17, 18, 19, 20]]"
            ]
          },
          "metadata": {},
          "execution_count": 63
        }
      ]
    },
    {
      "cell_type": "markdown",
      "source": [
        "##ВИСНОВКИ ЗА РОЗДІЛОМ\n",
        "\n",
        "Python має простий та зрозумілий синтаксис, підтримує динамічну типізацію і дозволяє швидко писати код. Навчилися працювати зі змінними різних типів, використовувати умовні оператори if/else, створювати функції та опрацьовувати масиви"
      ],
      "metadata": {
        "id": "AKeo8qjdFOB3"
      }
    },
    {
      "cell_type": "markdown",
      "source": [
        "#<center>РОЗДІЛ 2. Matplotlib: Visualization with Python</center>"
      ],
      "metadata": {
        "id": "bE-OLP8fHEgm"
      }
    },
    {
      "cell_type": "markdown",
      "source": [
        "##Імпортуйте бібліотеку Matplotlib"
      ],
      "metadata": {
        "id": "KxjccFO7oWZy"
      }
    },
    {
      "cell_type": "code",
      "source": [
        "import matplotlib.pyplot as plt"
      ],
      "metadata": {
        "id": "Gbu33T1DoaXg"
      },
      "execution_count": null,
      "outputs": []
    },
    {
      "cell_type": "markdown",
      "source": [
        "##Побудуйте графіки категоріальних змінних"
      ],
      "metadata": {
        "id": "t6hDWnG0ogyB"
      }
    },
    {
      "cell_type": "code",
      "source": [
        "categories = ['Apple', 'Banana', 'Cherry']\n",
        "values = [10, 24, 36]\n",
        "\n",
        "plt.bar(categories, values)\n",
        "plt.title('Категоріальні змінні')\n",
        "plt.xlabel('Фрукти')\n",
        "plt.ylabel('Кількість')\n",
        "plt.show()"
      ],
      "metadata": {
        "colab": {
          "base_uri": "https://localhost:8080/",
          "height": 293
        },
        "id": "oSZ8V6QKooYC",
        "outputId": "666970d5-3ea3-4afb-d5f3-b8509e916db2"
      },
      "execution_count": null,
      "outputs": [
        {
          "output_type": "display_data",
          "data": {
            "text/plain": [
              "<Figure size 200x200 with 1 Axes>"
            ],
            "image/png": "[encoded data removed]"
          },
          "metadata": {}
        }
      ]
    },
    {
      "cell_type": "code",
      "source": [
        "import numpy as np\n",
        "\n",
        "plt.style.use('_mpl-gallery')\n",
        "\n",
        "x = 0.5 + np.arange(8)\n",
        "y = [4.8, 5.5, 3.5, 4.6, 6.5, 6.6, 2.6, 3.0]\n",
        "\n",
        "fig, ax = plt.subplots()\n",
        "\n",
        "ax.bar(x, y, width=1, edgecolor=\"white\", linewidth=0.7)\n",
        "\n",
        "ax.set(xlim=(0, 8), xticks=np.arange(1, 8),\n",
        "       ylim=(0, 8), yticks=np.arange(1, 8))\n",
        "\n",
        "plt.show()"
      ],
      "metadata": {
        "colab": {
          "base_uri": "https://localhost:8080/",
          "height": 251
        },
        "id": "5UvzAUXwwUz6",
        "outputId": "5fd34571-73d4-4bde-cd70-4710c4c06641"
      },
      "execution_count": null,
      "outputs": [
        {
          "output_type": "display_data",
          "data": {
            "text/plain": [
              "<Figure size 200x200 with 1 Axes>"
            ],
            "image/png": "[encoded data removed]"
          },
          "metadata": {}
        }
      ]
    },
    {
      "cell_type": "markdown",
      "source": [
        "##Побудуйте кольорові bar графіки"
      ],
      "metadata": {
        "id": "amrrHj63wcji"
      }
    },
    {
      "cell_type": "code",
      "source": [
        "colors = ['red', 'yellow', 'purple']\n",
        "categories = ['Apple', 'Banana', 'Cherry']\n",
        "values = [10, 24, 36]\n",
        "\n",
        "plt.bar(categories, values, color=colors)\n",
        "plt.title('Кольоровий bar графік')\n",
        "plt.xlabel('Фрукти')\n",
        "plt.ylabel('Кількість')\n",
        "plt.show()"
      ],
      "metadata": {
        "colab": {
          "base_uri": "https://localhost:8080/",
          "height": 293
        },
        "id": "Njdp-r-UwjDx",
        "outputId": "0dd6416c-ae1b-4f3b-90fd-99d1781c13fb"
      },
      "execution_count": null,
      "outputs": [
        {
          "output_type": "display_data",
          "data": {
            "text/plain": [
              "<Figure size 200x200 with 1 Axes>"
            ],
            "image/png": "[encoded data removed]"
          },
          "metadata": {}
        }
      ]
    },
    {
      "cell_type": "code",
      "source": [
        "fig, ax = plt.subplots()\n",
        "\n",
        "fruits = ['apple', 'blueberry', 'cherry', 'orange']\n",
        "counts = [40, 100, 30, 55]\n",
        "bar_labels = ['red', 'blue', '_red', 'orange']\n",
        "bar_colors = ['tab:red', 'tab:blue', 'tab:red', 'tab:orange']\n",
        "\n",
        "ax.bar(fruits, counts, label=bar_labels, color=bar_colors)\n",
        "\n",
        "ax.set_ylabel('fruit supply')\n",
        "ax.set_title('Fruit supply by kind and color')\n",
        "ax.legend(title='Fruit color')\n",
        "\n",
        "plt.show()"
      ],
      "metadata": {
        "colab": {
          "base_uri": "https://localhost:8080/",
          "height": 274
        },
        "id": "CfallARUw0Ii",
        "outputId": "1e171baf-540c-4f27-bcff-5d5211e098b3"
      },
      "execution_count": null,
      "outputs": [
        {
          "output_type": "display_data",
          "data": {
            "text/plain": [
              "<Figure size 200x200 with 1 Axes>"
            ],
            "image/png": "[encoded data removed]"
          },
          "metadata": {}
        }
      ]
    },
    {
      "cell_type": "markdown",
      "source": [
        "##ВИСНОВКИ ЗА РОЗДІЛОМ\n",
        "\n",
        "Бібліотека Matplotlib є потужним і гнучким інструментом для візуалізації даних у Python. Однією з ключових переваг є її простота у використанні. При цьому Matplotlib дає широкі можливості для кастомізації: можна змінювати кольори, підписи осей, заголовки, сітку, легенду та багато іншого."
      ],
      "metadata": {
        "id": "GucoHRygx6yC"
      }
    },
    {
      "cell_type": "markdown",
      "source": [
        "#<center>РОЗДІЛ 3. Pandas: Python Data Analysis Library</center>"
      ],
      "metadata": {
        "id": "cMgoYERu4asE"
      }
    },
    {
      "cell_type": "markdown",
      "source": [
        "##Імпортуйте бібліотеку Pandas"
      ],
      "metadata": {
        "id": "7aYBP8DK49ED"
      }
    },
    {
      "cell_type": "code",
      "source": [
        "import pandas as pd"
      ],
      "metadata": {
        "id": "TEgVmKSe4s5k"
      },
      "execution_count": 32,
      "outputs": []
    },
    {
      "cell_type": "markdown",
      "source": [
        "##Розберіться у чому різниця між Series та DataFrame"
      ],
      "metadata": {
        "id": "X9kS7rr95Fr0"
      }
    },
    {
      "cell_type": "markdown",
      "source": [
        "Об'єкту Series можна присвоїти рядок імені name і тип даних dtype.\n",
        "\n",
        "Ми можемо вказати явну індексацію елементів, передаючи послідовність як аргумент index, або коли створюємо об'єкт Series зі словника.\n",
        "\n",
        "\n"
      ],
      "metadata": {
        "id": "_O6rCHq77Vhc"
      }
    },
    {
      "cell_type": "code",
      "source": [
        "mountains_height = pd.Series(\n",
        "    data=[2061, 2035.8, 2028.5, 2022.5, 2016.4],\n",
        "    index=[\"Goverla\", \"Brebenskyl\", \"Pip_Ivan\", \"Petros\", \"Gutin_Tomnatik\"],\n",
        "    name=\"Height, m\",\n",
        "    dtype=float,\n",
        ")\n",
        "\n",
        "print(mountains_height)"
      ],
      "metadata": {
        "colab": {
          "base_uri": "https://localhost:8080/"
        },
        "id": "XXyw2lzv5PyD",
        "outputId": "3be58555-2ecf-419e-e1ed-8f42979a7f60"
      },
      "execution_count": 33,
      "outputs": [
        {
          "output_type": "stream",
          "name": "stdout",
          "text": [
            "Goverla           2061.0\n",
            "Brebenskyl        2035.8\n",
            "Pip_Ivan          2028.5\n",
            "Petros            2022.5\n",
            "Gutin_Tomnatik    2016.4\n",
            "Name: Height, m, dtype: float64\n"
          ]
        }
      ]
    },
    {
      "cell_type": "markdown",
      "source": [
        "Це дозволяє зручно посилатися на елементи послідовності Series з використанням міток індексу, замість цілих чисел, у тому числі і на окремі елементи послідовності:"
      ],
      "metadata": {
        "id": "F-hIMdhE7Aj8"
      }
    },
    {
      "cell_type": "code",
      "source": [
        "print(mountains_height[0])  # 2061.0\n",
        "print(mountains_height[\"Goverla\"])  # 2061.0"
      ],
      "metadata": {
        "colab": {
          "base_uri": "https://localhost:8080/"
        },
        "id": "3_LjQUDg7jIM",
        "outputId": "3b821a5a-c65a-4197-cf2e-f9b188815eee"
      },
      "execution_count": null,
      "outputs": [
        {
          "output_type": "stream",
          "name": "stdout",
          "text": [
            "2061.0\n",
            "2061.0\n"
          ]
        },
        {
          "output_type": "stream",
          "name": "stderr",
          "text": [
            "<ipython-input-24-ba70d535e9d5>:1: FutureWarning: Series.__getitem__ treating keys as positions is deprecated. In a future version, integer keys will always be treated as labels (consistent with DataFrame behavior). To access a value by position, use `ser.iloc[pos]`\n",
            "  print(mountains_height[0])  # 2061.0\n"
          ]
        }
      ]
    },
    {
      "cell_type": "markdown",
      "source": [
        "Можна уявити елементи в іншому порядку:"
      ],
      "metadata": {
        "id": "NfvO8pgF7omE"
      }
    },
    {
      "cell_type": "code",
      "source": [
        "print(mountains_height[[\"Pip_Ivan\", \"Goverla\", \"Gutin_Tomnatik\"]])"
      ],
      "metadata": {
        "colab": {
          "base_uri": "https://localhost:8080/"
        },
        "id": "_KII3Koe7piT",
        "outputId": "6cad34e0-32ce-46d4-e5ee-632b55bce963"
      },
      "execution_count": null,
      "outputs": [
        {
          "output_type": "stream",
          "name": "stdout",
          "text": [
            "Pip_Ivan          2028.5\n",
            "Goverla           2061.0\n",
            "Gutin_Tomnatik    2016.4\n",
            "Name: Height, m, dtype: float64\n"
          ]
        }
      ]
    },
    {
      "cell_type": "markdown",
      "source": [
        "Вирізання елементів у стилі Python працює. Можливо навіть використання нотації, схожої на стиль вирізання, але в цьому випадку зазначений кінцевий елемент включається в групу, що вирізається:"
      ],
      "metadata": {
        "id": "NgRXAwze7se8"
      }
    },
    {
      "cell_type": "code",
      "source": [
        "print(mountains_height[1:3])\n",
        "print(mountains_height[\"Brebenskyl\":\"Petros\"])"
      ],
      "metadata": {
        "colab": {
          "base_uri": "https://localhost:8080/"
        },
        "id": "Wj_3aWe57wC8",
        "outputId": "fe7b8fa9-cf65-4e2d-f7d3-8ddbf17a4435"
      },
      "execution_count": null,
      "outputs": [
        {
          "output_type": "stream",
          "name": "stdout",
          "text": [
            "Brebenskyl    2035.8\n",
            "Pip_Ivan      2028.5\n",
            "Name: Height, m, dtype: float64\n",
            "Brebenskyl    2035.8\n",
            "Pip_Ivan      2028.5\n",
            "Petros        2022.5\n",
            "Name: Height, m, dtype: float64\n"
          ]
        }
      ]
    },
    {
      "cell_type": "markdown",
      "source": [
        "Можна звертатися до рядку даних як до атрибуту послідовності Series:"
      ],
      "metadata": {
        "id": "wFpamkLG783U"
      }
    },
    {
      "cell_type": "code",
      "source": [
        "print(mountains_height.Petros)  # 2022.5\n",
        "print(mountains_height.Brebenskyl)  # 2035.8"
      ],
      "metadata": {
        "colab": {
          "base_uri": "https://localhost:8080/"
        },
        "id": "79K-ggeH8CNU",
        "outputId": "9b9269df-5c05-4245-8bb0-829ad1e08b9d"
      },
      "execution_count": null,
      "outputs": [
        {
          "output_type": "stream",
          "name": "stdout",
          "text": [
            "2022.5\n",
            "2035.8\n"
          ]
        }
      ]
    },
    {
      "cell_type": "markdown",
      "source": [
        "Можливе виконання числових операцій з даними Series з використанням векторизації.\n",
        "\n",
        "Операції порівняння та фільтрації об'єкта Series за допомогою логічних операцій створюють новий об'єкт Series."
      ],
      "metadata": {
        "id": "O3ZSHiDH8FAd"
      }
    },
    {
      "cell_type": "code",
      "source": [
        "print(mountains_height > 2030)\n",
        "print(mountains_height[mountains_height > 2030])"
      ],
      "metadata": {
        "colab": {
          "base_uri": "https://localhost:8080/"
        },
        "id": "BsbNVxqP8Pd0",
        "outputId": "26cfc86f-c336-48b1-f073-0f66f20bf80a"
      },
      "execution_count": null,
      "outputs": [
        {
          "output_type": "stream",
          "name": "stdout",
          "text": [
            "Goverla            True\n",
            "Brebenskyl         True\n",
            "Pip_Ivan          False\n",
            "Petros            False\n",
            "Gutin_Tomnatik    False\n",
            "Name: Height, m, dtype: bool\n",
            "Goverla       2061.0\n",
            "Brebenskyl    2035.8\n",
            "Name: Height, m, dtype: float64\n"
          ]
        }
      ]
    },
    {
      "cell_type": "markdown",
      "source": [
        "Операції перевірки на існування елемента в Series використовують індекс, а не значення:"
      ],
      "metadata": {
        "id": "e6uO08kg8R1c"
      }
    },
    {
      "cell_type": "code",
      "source": [
        "print(\"Goverla\" in mountains_height)  # True"
      ],
      "metadata": {
        "colab": {
          "base_uri": "https://localhost:8080/"
        },
        "id": "kNl7hsbZ8Vg8",
        "outputId": "446105a8-211a-491f-9e47-8c41436c6af8"
      },
      "execution_count": null,
      "outputs": [
        {
          "output_type": "stream",
          "name": "stdout",
          "text": [
            "True\n"
          ]
        }
      ]
    },
    {
      "cell_type": "markdown",
      "source": [
        "Сортування виконується за індексом або за значеннями, дивлячись, що необхідно для конкретного випадку. Використовуються методи Series.sort_index та Series.sort_values відповідно. Методи за замовчуванням повертають новий об'єкт Series, але за допомогою аргументу inplace=True можна оновити вихідний об'єкт.\n",
        "\n",
        "\n",
        "\n",
        "Аргумент ascending визначає порядок сортування за замовчуванням, містить значення True"
      ],
      "metadata": {
        "id": "roxCb_X18YFk"
      }
    },
    {
      "cell_type": "code",
      "source": [
        "sort_index = mountains_height.sort_index()\n",
        "print(sort_index)"
      ],
      "metadata": {
        "colab": {
          "base_uri": "https://localhost:8080/"
        },
        "id": "NQpCGN3u8kK1",
        "outputId": "d21fc50b-b124-488a-a25b-868b0acfa977"
      },
      "execution_count": null,
      "outputs": [
        {
          "output_type": "stream",
          "name": "stdout",
          "text": [
            "Brebenskyl        2035.8\n",
            "Goverla           2061.0\n",
            "Gutin_Tomnatik    2016.4\n",
            "Petros            2022.5\n",
            "Pip_Ivan          2028.5\n",
            "Name: Height, m, dtype: float64\n"
          ]
        }
      ]
    },
    {
      "cell_type": "code",
      "source": [
        "mountains_height_1 = pd.Series(\n",
        "    data=[2022.5, 2035.8, 2016.4, 2061, 2028.5],\n",
        "    index=[\"Goverla\", \"Brebenskyl\", \"Pip_Ivan\", \"Petros\", \"Gutin_Tomnatik\"],\n",
        "    name=\"Height, m\",\n",
        "    dtype=float,\n",
        ")\n",
        "\n",
        "mountains_height_1.sort_values(inplace=True, ascending=False)\n",
        "print(mountains_height_1)"
      ],
      "metadata": {
        "colab": {
          "base_uri": "https://localhost:8080/"
        },
        "id": "UkqU7JHP8qhE",
        "outputId": "4b393000-b779-46ba-a2bb-4fdcfe8355aa"
      },
      "execution_count": null,
      "outputs": [
        {
          "output_type": "stream",
          "name": "stdout",
          "text": [
            "Petros            2061.0\n",
            "Brebenskyl        2035.8\n",
            "Gutin_Tomnatik    2028.5\n",
            "Goverla           2022.5\n",
            "Pip_Ivan          2016.4\n",
            "Name: Height, m, dtype: float64\n"
          ]
        }
      ]
    },
    {
      "cell_type": "markdown",
      "source": [
        "Елементи NaN (не число) в об'єкті Series можна замінити на задане значення, використовуючи метод fillna:"
      ],
      "metadata": {
        "id": "ap6qQ9g99Wud"
      }
    },
    {
      "cell_type": "code",
      "source": [
        "mountains_height_2 = pd.Series(\n",
        "    {\"Goverla\": 2061, \"Brebenskyl\": 2035.8, \"Pip_Ivan\": 2028.5},\n",
        "    index=[\"Goverla\", \"Brebenskyl\", \"Pip_Ivan\", \"Petros\", \"Gutin_Tomnatik\"],\n",
        "    name=\"Height, m\",\n",
        "    dtype=float,\n",
        ")\n",
        "\n",
        "print(mountains_height_2)\n",
        "\n",
        "mountains_height_2.fillna(0, inplace=True)\n",
        "\n",
        "print(mountains_height_2)\n"
      ],
      "metadata": {
        "colab": {
          "base_uri": "https://localhost:8080/"
        },
        "id": "7tVvvnX39YMk",
        "outputId": "5eb7d869-1752-4a83-c294-299c9ef9b572"
      },
      "execution_count": null,
      "outputs": [
        {
          "output_type": "stream",
          "name": "stdout",
          "text": [
            "Goverla           2061.0\n",
            "Brebenskyl        2035.8\n",
            "Pip_Ivan          2028.5\n",
            "Petros               NaN\n",
            "Gutin_Tomnatik       NaN\n",
            "Name: Height, m, dtype: float64\n",
            "Goverla           2061.0\n",
            "Brebenskyl        2035.8\n",
            "Pip_Ivan          2028.5\n",
            "Petros               0.0\n",
            "Gutin_Tomnatik       0.0\n",
            "Name: Height, m, dtype: float64\n"
          ]
        }
      ]
    },
    {
      "cell_type": "markdown",
      "source": [
        "DataFrame - двовимірна таблиця даних."
      ],
      "metadata": {
        "id": "Jw6338Cj9mTk"
      }
    },
    {
      "cell_type": "code",
      "source": [
        "contacts = pd.DataFrame(\n",
        "    {\n",
        "        \"name\": [\n",
        "            \"Allen Raymond\",\n",
        "            \"Chaim Lewis\",\n",
        "            \"Kennedy Lane\",\n",
        "            \"Wylie Pope\",\n",
        "            \"Cyrus Jackson\",\n",
        "        ],\n",
        "        \"email\": [\n",
        "            \"nulla.ante@vestibul.co.uk\",\n",
        "            \"dui.in@egetlacus.ca\",\n",
        "            \"mattis.Cras@nonenimMauris.net\",\n",
        "            \"est@utquamvel.net\",\n",
        "            \"nibh@semsempererat.com\",\n",
        "        ],\n",
        "        \"phone\": [\n",
        "            \"(992) 914-3792\",\n",
        "            \"(294) 840-6685\",\n",
        "            \"(542) 451-7038\",\n",
        "            \"(692) 802-2949\",\n",
        "            \"(501) 472-5218\",\n",
        "        ],\n",
        "        \"favorite\": [False, False, True, False, True],\n",
        "    },\n",
        "    index=[1, 2, 3, 4, 5],\n",
        ")\n",
        "\n",
        "print(contacts)\n"
      ],
      "metadata": {
        "colab": {
          "base_uri": "https://localhost:8080/"
        },
        "id": "kM-DMpRC9zPM",
        "outputId": "4c1b36c6-8830-4293-c1ce-684713d5d37c"
      },
      "execution_count": 4,
      "outputs": [
        {
          "output_type": "stream",
          "name": "stdout",
          "text": [
            "            name                          email           phone  favorite\n",
            "1  Allen Raymond      nulla.ante@vestibul.co.uk  (992) 914-3792     False\n",
            "2    Chaim Lewis            dui.in@egetlacus.ca  (294) 840-6685     False\n",
            "3   Kennedy Lane  mattis.Cras@nonenimMauris.net  (542) 451-7038      True\n",
            "4     Wylie Pope              est@utquamvel.net  (692) 802-2949     False\n",
            "5  Cyrus Jackson         nibh@semsempererat.com  (501) 472-5218      True\n"
          ]
        }
      ]
    },
    {
      "cell_type": "markdown",
      "source": [
        "![b08219d0-b856-4401-bd48-c959e598459dScreenshot_13.png](data:image/png;base64,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)"
      ],
      "metadata": {
        "id": "IOjJNPWZ9_yM"
      }
    },
    {
      "cell_type": "markdown",
      "source": [
        "Вибір стовпця:"
      ],
      "metadata": {
        "id": "g3QTmCvv-h8O"
      }
    },
    {
      "cell_type": "code",
      "source": [
        "print(contacts[\"name\"])"
      ],
      "metadata": {
        "colab": {
          "base_uri": "https://localhost:8080/"
        },
        "id": "_9K0owe2-ij2",
        "outputId": "364eb112-bc89-48a2-ce6a-8536973d4e30"
      },
      "execution_count": null,
      "outputs": [
        {
          "output_type": "stream",
          "name": "stdout",
          "text": [
            "1    Allen Raymond\n",
            "2      Chaim Lewis\n",
            "3     Kennedy Lane\n",
            "4       Wylie Pope\n",
            "5    Cyrus Jackson\n",
            "Name: name, dtype: object\n"
          ]
        }
      ]
    },
    {
      "cell_type": "markdown",
      "source": [
        "Вибір рядка за міткою:"
      ],
      "metadata": {
        "id": "W2FMe-OR-k6m"
      }
    },
    {
      "cell_type": "code",
      "source": [
        "print(contacts.loc[1])"
      ],
      "metadata": {
        "colab": {
          "base_uri": "https://localhost:8080/"
        },
        "id": "F-lEUH3G-nFd",
        "outputId": "b7ba963b-53b4-41c0-de80-5f3d9ae6d444"
      },
      "execution_count": null,
      "outputs": [
        {
          "output_type": "stream",
          "name": "stdout",
          "text": [
            "name                    Allen Raymond\n",
            "email       nulla.ante@vestibul.co.uk\n",
            "phone                  (992) 914-3792\n",
            "favorite                        False\n",
            "Name: 1, dtype: object\n"
          ]
        }
      ]
    },
    {
      "cell_type": "markdown",
      "source": [
        "Вибір рядка за індексом:"
      ],
      "metadata": {
        "id": "ZG0o3ZLK-pGt"
      }
    },
    {
      "cell_type": "code",
      "source": [
        "print(contacts.iloc[1])"
      ],
      "metadata": {
        "colab": {
          "base_uri": "https://localhost:8080/"
        },
        "id": "Pl3wqK0n-qjF",
        "outputId": "f54b8519-8f50-4374-fb1e-30d14bf18635"
      },
      "execution_count": null,
      "outputs": [
        {
          "output_type": "stream",
          "name": "stdout",
          "text": [
            "name                Chaim Lewis\n",
            "email       dui.in@egetlacus.ca\n",
            "phone            (294) 840-6685\n",
            "favorite                  False\n",
            "Name: 2, dtype: object\n"
          ]
        }
      ]
    },
    {
      "cell_type": "markdown",
      "source": [
        "Зріз за рядками:"
      ],
      "metadata": {
        "id": "-hOLybYI-zXF"
      }
    },
    {
      "cell_type": "code",
      "source": [
        "print(contacts[0:2])"
      ],
      "metadata": {
        "colab": {
          "base_uri": "https://localhost:8080/"
        },
        "id": "K5QHAGss-0CP",
        "outputId": "44bac477-4948-41d1-f62d-4600eff16447"
      },
      "execution_count": null,
      "outputs": [
        {
          "output_type": "stream",
          "name": "stdout",
          "text": [
            "            name                      email           phone  favorite\n",
            "1  Allen Raymond  nulla.ante@vestibul.co.uk  (992) 914-3792     False\n",
            "2    Chaim Lewis        dui.in@egetlacus.ca  (294) 840-6685     False\n"
          ]
        }
      ]
    },
    {
      "cell_type": "markdown",
      "source": [
        "Вибір рядків, які відповідають умові:"
      ],
      "metadata": {
        "id": "NMBJdUEy-2GV"
      }
    },
    {
      "cell_type": "code",
      "source": [
        "print(contacts[contacts[\"favorite\"]])"
      ],
      "metadata": {
        "colab": {
          "base_uri": "https://localhost:8080/"
        },
        "id": "OFxxtpfk-4Mt",
        "outputId": "888f1611-a3c9-4dc5-a1d7-351e862ddaee"
      },
      "execution_count": null,
      "outputs": [
        {
          "output_type": "stream",
          "name": "stdout",
          "text": [
            "            name                          email           phone  favorite\n",
            "3   Kennedy Lane  mattis.Cras@nonenimMauris.net  (542) 451-7038      True\n",
            "5  Cyrus Jackson         nibh@semsempererat.com  (501) 472-5218      True\n"
          ]
        }
      ]
    },
    {
      "cell_type": "markdown",
      "source": [
        "В чому різниця?\n",
        "\n",
        "\n",
        "Якщо коротко та спрощено, то: Series — це один стовпчик, DataFrame — це таблиця з кількох Series"
      ],
      "metadata": {
        "id": "BZZh5PMC-50N"
      }
    },
    {
      "cell_type": "markdown",
      "source": [
        "##Попрацюйте з табличними даними, створеними самостійно та імпортованими ззовні(head, tail, info)"
      ],
      "metadata": {
        "id": "c004ixgT01lh"
      }
    },
    {
      "cell_type": "code",
      "source": [
        "print(contacts.head(3))   # перші 3 рядки"
      ],
      "metadata": {
        "id": "_wzB3RLU_W80",
        "colab": {
          "base_uri": "https://localhost:8080/"
        },
        "outputId": "b9a16c69-f34d-4e4a-a464-9f5560986a24"
      },
      "execution_count": 8,
      "outputs": [
        {
          "output_type": "stream",
          "name": "stdout",
          "text": [
            "            name                          email           phone  favorite\n",
            "1  Allen Raymond      nulla.ante@vestibul.co.uk  (992) 914-3792     False\n",
            "2    Chaim Lewis            dui.in@egetlacus.ca  (294) 840-6685     False\n",
            "3   Kennedy Lane  mattis.Cras@nonenimMauris.net  (542) 451-7038      True\n"
          ]
        }
      ]
    },
    {
      "cell_type": "code",
      "source": [
        "print(contacts.tail(2))# останні 2 рядки"
      ],
      "metadata": {
        "colab": {
          "base_uri": "https://localhost:8080/"
        },
        "id": "xblHdxMm1uqx",
        "outputId": "fd35a67d-60d2-49bf-8af9-6a17ab90ad7e"
      },
      "execution_count": 11,
      "outputs": [
        {
          "output_type": "stream",
          "name": "stdout",
          "text": [
            "            name                   email           phone  favorite\n",
            "4     Wylie Pope       est@utquamvel.net  (692) 802-2949     False\n",
            "5  Cyrus Jackson  nibh@semsempererat.com  (501) 472-5218      True\n"
          ]
        }
      ]
    },
    {
      "cell_type": "code",
      "source": [
        "print(contacts.info())   # загальна інформація"
      ],
      "metadata": {
        "colab": {
          "base_uri": "https://localhost:8080/"
        },
        "id": "jePa_s4P2JFF",
        "outputId": "261a11c3-c2f9-4c50-c771-c7d14bcf5545"
      },
      "execution_count": 13,
      "outputs": [
        {
          "output_type": "stream",
          "name": "stdout",
          "text": [
            "<class 'pandas.core.frame.DataFrame'>\n",
            "Index: 5 entries, 1 to 5\n",
            "Data columns (total 4 columns):\n",
            " #   Column    Non-Null Count  Dtype \n",
            "---  ------    --------------  ----- \n",
            " 0   name      5 non-null      object\n",
            " 1   email     5 non-null      object\n",
            " 2   phone     5 non-null      object\n",
            " 3   favorite  5 non-null      bool  \n",
            "dtypes: bool(1), object(3)\n",
            "memory usage: 165.0+ bytes\n",
            "None\n"
          ]
        }
      ]
    },
    {
      "cell_type": "code",
      "source": [
        "tmp = pd.read_html(\"https://statisticstimes.com/tech/top-computer-languages.php\", attrs={\"id\": \"table_id1\"})\n",
        "\n",
        "print(tmp[0].head())\n",
        "print(\"\\n\")\n",
        "print(tmp[0].tail(1))\n",
        "print(\"\\n\")\n",
        "print(tmp[0].info(verbose=False))"
      ],
      "metadata": {
        "colab": {
          "base_uri": "https://localhost:8080/"
        },
        "id": "5LI1KL644VP4",
        "outputId": "07fe44f5-c3fb-4536-c8c7-6bdf1a6697c7"
      },
      "execution_count": 31,
      "outputs": [
        {
          "output_type": "stream",
          "name": "stdout",
          "text": [
            "   Mar 2025 Change Programming language    Share  Trends\n",
            "0         1    NaN               Python  30.27 %  +1.8 %\n",
            "1         2    NaN                 Java  14.89 %  -0.9 %\n",
            "2         3    NaN           JavaScript   7.78 %  -0.9 %\n",
            "3         4      ↑                C/C++   7.12 %  +0.6 %\n",
            "4         5      ↓                   C#   6.11 %  -0.6 %\n",
            "\n",
            "\n",
            "    Mar 2025 Change Programming language   Share  Trends\n",
            "29        30      ↓        Delphi/Pascal  0.03 %  -0.1 %\n",
            "\n",
            "\n",
            "<class 'pandas.core.frame.DataFrame'>\n",
            "RangeIndex: 30 entries, 0 to 29\n",
            "Columns: 5 entries, Mar 2025 to Trends\n",
            "dtypes: int64(1), object(4)\n",
            "memory usage: 1.3+ KB\n",
            "None\n"
          ]
        }
      ]
    },
    {
      "cell_type": "markdown",
      "source": [
        "# ВИСНОВКИ ПО РОБОТІ\n",
        "---\n",
        "\n",
        "## Python — мова для роботи з даними\n",
        "\n",
        "Мова програмування **Python** є універсальним та зручним інструментом для роботи з даними. Вона відзначається:\n",
        "\n",
        "- простим і читабельним синтаксисом;\n",
        "- широким набором бібліотек;\n",
        "- активним використанням у науці, аналітиці, машинному навчанні, автоматизації тощо.\n",
        "\n",
        "---\n",
        "\n",
        "## Pandas — ефективна робота з таблицями\n",
        "\n",
        "Бібліотека **Pandas** надає зручні структури для аналізу табличних даних:\n",
        "\n",
        "### 🔹 Series\n",
        "- Одновимірна структура (як список або стовпчик).\n",
        "- Має власні індекси.\n",
        "\n",
        "### 🔸 DataFrame\n",
        "- Двовимірна таблиця з рядками і стовпцями.\n",
        "- Складається з кількох Series.\n",
        "- Зручно для повноцінного аналізу табличних даних.\n",
        "\n",
        "Pandas дозволяє легко:\n",
        "- імпортувати дані (CSV, Excel, HTML тощо);\n",
        "- очищати, фільтрувати та групувати їх;\n",
        "\n",
        "---\n",
        "\n",
        "## Matplotlib — візуалізація даних\n",
        "\n",
        "**Matplotlib** — бібліотека, яка дозволяє будувати графіки, гістограми, діаграми та інші типи візуального подання інформації. З її допомогою можна краще зрозуміти структуру даних, виявити тенденції та закономірності.\n",
        "\n",
        "---\n",
        "---\n",
        "\n",
        "Поєднання **Python + Pandas + Matplotlib** дає потужний інструмент, щоб ефективно опрацьовувати великі обсяги даних та представляти результати у зрозумілій та наочній формі."
      ],
      "metadata": {
        "id": "9T0p8tDRA65B"
      }
    },
    {
      "cell_type": "code",
      "source": [],
      "metadata": {
        "id": "615r3NpuFTrA"
      },
      "execution_count": null,
      "outputs": []
    }
  ]
}